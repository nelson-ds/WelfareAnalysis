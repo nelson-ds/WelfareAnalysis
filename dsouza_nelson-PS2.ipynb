{
 "cells": [
  {
   "cell_type": "markdown",
   "metadata": {},
   "source": [
    "# Problem Set 2, due January 26 at 11:59am (i.e., noon).\n",
    "\n",
    "**Please Note:** This assignment will likely take you a _long_ time, especially if you are new to Python. Start early!"
   ]
  },
  {
   "cell_type": "markdown",
   "metadata": {},
   "source": [
    "## Introduction to the assignment\n",
    "\n",
    "For this assignment, you will be using data from the [Progresa program](http://en.wikipedia.org/wiki/Oportunidades), a government social assistance program in Mexico. This program, as well as the details of its impact, are described in the paper \"[School subsidies for the poor: evaluating the Mexican Progresa poverty program](http://www.sciencedirect.com/science/article/pii/S0304387803001858)\", by Paul Shultz (available on Canvas). Please familiarize yourself with the PROGRESA program before beginning this problem set, so you have a rough sense of where the data come from and how they were generated. If you just proceed into the problem set without understanding Progresa or the data, it will be very difficult!\n",
    "\n",
    "The goal of this problem set is to implement some of the basic econometric techniques that you are learning in class to measure the impact of Progresa on secondary school enrollment rates. The timeline of the program was:\n",
    "\n",
    " * Baseline survey conducted in 1997\n",
    " * Intervention begins in 1998, \"Wave 1\" of data collected in 1998\n",
    " * \"Wave 2 of data\" collected in 1999\n",
    " * Evaluation ends in 2000, at which point the control villages were treated. \n",
    " \n",
    "When you are ready, download the progresa_sample.csv data from Canvas. The data are actual data collected to evaluate the impact of the Progresa program.  In this file, each row corresponds to an observation taken for a given child for a given year. There are two years of data (1997 and 1998), and just under 40,000 children who are surveyed in each year. For each child-year observation, the following variables are collected:\n",
    "\n",
    "| Variable name | Description|\n",
    "|------|------|\n",
    "|year\t  |year in which data is collected\n",
    "|sex\t  |male = 1|\n",
    "|indig\t  |indigenous = 1|\n",
    "|dist_sec |nearest distance to a secondary school|\n",
    "|sc\t      |enrolled in school in year of survey|\n",
    "|grc      |grade enrolled|\n",
    "|fam_n    |family size|\n",
    "|min_dist |\tmin distance to an urban center|\n",
    "|dist_cap |\tmin distance to the capital|\n",
    "|poor     |\tpoor = 1|\n",
    "|progresa |treatment =1|\n",
    "|hohedu\t  |years of schooling of head of household|\n",
    "|hohwag\t  |monthly wages of head of household|\n",
    "|welfare_index|\twelfare index used to classify poor|\n",
    "|hohsex\t|gender of head of household (male=1)|\n",
    "|hohage\t|age of head of household|\n",
    "|age\t|years old|\n",
    "|folnum\t|individual id|\n",
    "|village|\tvillage id|\n",
    "|sc97\t|schooling in 1997|"
   ]
  },
  {
   "cell_type": "markdown",
   "metadata": {},
   "source": [
    "---\n",
    "\n",
    "##Part 1: Descriptive analysis\n",
    "\n",
    "### 1.1\tSummary Statistics\n",
    "\n",
    "Present summary statistics (mean and standard deviation) for all of the demographic variables in the dataset (i.e., everything except year, folnum, village). Present these in a single table alphabetized by variable name. Do NOT simply expect the grader to scroll through your output!"
   ]
  },
  {
   "cell_type": "markdown",
   "metadata": {},
   "source": [
    "First, let us import the required packages and data"
   ]
  },
  {
   "cell_type": "code",
   "execution_count": 7,
   "metadata": {
    "collapsed": false
   },
   "outputs": [
    {
     "data": {
      "text/html": [
       "<div>\n",
       "<table border=\"1\" class=\"dataframe\">\n",
       "  <thead>\n",
       "    <tr style=\"text-align: right;\">\n",
       "      <th></th>\n",
       "      <th>year</th>\n",
       "      <th>sex</th>\n",
       "      <th>indig</th>\n",
       "      <th>dist_sec</th>\n",
       "      <th>sc</th>\n",
       "      <th>grc</th>\n",
       "      <th>fam_n</th>\n",
       "      <th>min_dist</th>\n",
       "      <th>dist_cap</th>\n",
       "      <th>poor</th>\n",
       "      <th>...</th>\n",
       "      <th>hohedu</th>\n",
       "      <th>hohwag</th>\n",
       "      <th>welfare_index</th>\n",
       "      <th>hohsex</th>\n",
       "      <th>hohage</th>\n",
       "      <th>age</th>\n",
       "      <th>village</th>\n",
       "      <th>folnum</th>\n",
       "      <th>grc97</th>\n",
       "      <th>sc97</th>\n",
       "    </tr>\n",
       "  </thead>\n",
       "  <tbody>\n",
       "    <tr>\n",
       "      <th>0</th>\n",
       "      <td>97</td>\n",
       "      <td>0</td>\n",
       "      <td>0</td>\n",
       "      <td>4.473</td>\n",
       "      <td>1</td>\n",
       "      <td>7</td>\n",
       "      <td>7</td>\n",
       "      <td>21.168384</td>\n",
       "      <td>21.168384</td>\n",
       "      <td>pobre</td>\n",
       "      <td>...</td>\n",
       "      <td>6</td>\n",
       "      <td>0</td>\n",
       "      <td>583</td>\n",
       "      <td>1</td>\n",
       "      <td>35</td>\n",
       "      <td>13</td>\n",
       "      <td>163</td>\n",
       "      <td>1</td>\n",
       "      <td>7</td>\n",
       "      <td>1</td>\n",
       "    </tr>\n",
       "    <tr>\n",
       "      <th>1</th>\n",
       "      <td>98</td>\n",
       "      <td>0</td>\n",
       "      <td>0</td>\n",
       "      <td>4.473</td>\n",
       "      <td>1</td>\n",
       "      <td>8</td>\n",
       "      <td>7</td>\n",
       "      <td>21.168384</td>\n",
       "      <td>21.168384</td>\n",
       "      <td>pobre</td>\n",
       "      <td>...</td>\n",
       "      <td>6</td>\n",
       "      <td>0</td>\n",
       "      <td>583</td>\n",
       "      <td>1</td>\n",
       "      <td>35</td>\n",
       "      <td>14</td>\n",
       "      <td>163</td>\n",
       "      <td>1</td>\n",
       "      <td>7</td>\n",
       "      <td>1</td>\n",
       "    </tr>\n",
       "    <tr>\n",
       "      <th>2</th>\n",
       "      <td>97</td>\n",
       "      <td>1</td>\n",
       "      <td>0</td>\n",
       "      <td>4.473</td>\n",
       "      <td>1</td>\n",
       "      <td>6</td>\n",
       "      <td>7</td>\n",
       "      <td>21.168384</td>\n",
       "      <td>21.168384</td>\n",
       "      <td>pobre</td>\n",
       "      <td>...</td>\n",
       "      <td>6</td>\n",
       "      <td>0</td>\n",
       "      <td>583</td>\n",
       "      <td>1</td>\n",
       "      <td>35</td>\n",
       "      <td>12</td>\n",
       "      <td>163</td>\n",
       "      <td>2</td>\n",
       "      <td>6</td>\n",
       "      <td>1</td>\n",
       "    </tr>\n",
       "    <tr>\n",
       "      <th>3</th>\n",
       "      <td>98</td>\n",
       "      <td>1</td>\n",
       "      <td>0</td>\n",
       "      <td>4.473</td>\n",
       "      <td>1</td>\n",
       "      <td>7</td>\n",
       "      <td>7</td>\n",
       "      <td>21.168384</td>\n",
       "      <td>21.168384</td>\n",
       "      <td>pobre</td>\n",
       "      <td>...</td>\n",
       "      <td>6</td>\n",
       "      <td>0</td>\n",
       "      <td>583</td>\n",
       "      <td>1</td>\n",
       "      <td>35</td>\n",
       "      <td>13</td>\n",
       "      <td>163</td>\n",
       "      <td>2</td>\n",
       "      <td>6</td>\n",
       "      <td>1</td>\n",
       "    </tr>\n",
       "    <tr>\n",
       "      <th>4</th>\n",
       "      <td>97</td>\n",
       "      <td>0</td>\n",
       "      <td>0</td>\n",
       "      <td>4.473</td>\n",
       "      <td>1</td>\n",
       "      <td>2</td>\n",
       "      <td>7</td>\n",
       "      <td>21.168384</td>\n",
       "      <td>21.168384</td>\n",
       "      <td>pobre</td>\n",
       "      <td>...</td>\n",
       "      <td>6</td>\n",
       "      <td>0</td>\n",
       "      <td>583</td>\n",
       "      <td>1</td>\n",
       "      <td>35</td>\n",
       "      <td>8</td>\n",
       "      <td>163</td>\n",
       "      <td>3</td>\n",
       "      <td>2</td>\n",
       "      <td>1</td>\n",
       "    </tr>\n",
       "  </tbody>\n",
       "</table>\n",
       "<p>5 rows × 21 columns</p>\n",
       "</div>"
      ],
      "text/plain": [
       "   year  sex  indig  dist_sec  sc  grc  fam_n   min_dist   dist_cap   poor  \\\n",
       "0    97    0      0     4.473   1    7      7  21.168384  21.168384  pobre   \n",
       "1    98    0      0     4.473   1    8      7  21.168384  21.168384  pobre   \n",
       "2    97    1      0     4.473   1    6      7  21.168384  21.168384  pobre   \n",
       "3    98    1      0     4.473   1    7      7  21.168384  21.168384  pobre   \n",
       "4    97    0      0     4.473   1    2      7  21.168384  21.168384  pobre   \n",
       "\n",
       "   ...  hohedu  hohwag  welfare_index  hohsex  hohage  age  village  folnum  \\\n",
       "0  ...       6       0            583       1      35   13      163       1   \n",
       "1  ...       6       0            583       1      35   14      163       1   \n",
       "2  ...       6       0            583       1      35   12      163       2   \n",
       "3  ...       6       0            583       1      35   13      163       2   \n",
       "4  ...       6       0            583       1      35    8      163       3   \n",
       "\n",
       "   grc97  sc97  \n",
       "0      7     1  \n",
       "1      7     1  \n",
       "2      6     1  \n",
       "3      6     1  \n",
       "4      2     1  \n",
       "\n",
       "[5 rows x 21 columns]"
      ]
     },
     "execution_count": 7,
     "metadata": {},
     "output_type": "execute_result"
    }
   ],
   "source": [
    "# Importing required packages\n",
    "import pandas as pd\n",
    "import matplotlib.pyplot as plt\n",
    "import scipy.stats\n",
    "import statsmodels.formula.api as smf\n",
    "%matplotlib inline\n",
    "\n",
    "# Importing the progresa data\n",
    "pr = pd.read_csv('progresa_sample.csv')\n",
    "\n",
    "# Let's view how our data looks\n",
    "pr.head(5)"
   ]
  },
  {
   "cell_type": "markdown",
   "metadata": {},
   "source": [
    "Let us compute summary statistics for all demographic variables in the dataset except year, folnum and village"
   ]
  },
  {
   "cell_type": "code",
   "execution_count": 8,
   "metadata": {
    "collapsed": false
   },
   "outputs": [
    {
     "data": {
      "text/html": [
       "<div>\n",
       "<table border=\"1\" class=\"dataframe\">\n",
       "  <thead>\n",
       "    <tr style=\"text-align: right;\">\n",
       "      <th></th>\n",
       "      <th>Mean</th>\n",
       "      <th>Standard Deviation</th>\n",
       "    </tr>\n",
       "  </thead>\n",
       "  <tbody>\n",
       "    <tr>\n",
       "      <th>age</th>\n",
       "      <td>11.366460</td>\n",
       "      <td>3.167744</td>\n",
       "    </tr>\n",
       "    <tr>\n",
       "      <th>dist_cap</th>\n",
       "      <td>147.674452</td>\n",
       "      <td>76.063134</td>\n",
       "    </tr>\n",
       "    <tr>\n",
       "      <th>dist_sec</th>\n",
       "      <td>2.418910</td>\n",
       "      <td>2.234109</td>\n",
       "    </tr>\n",
       "    <tr>\n",
       "      <th>fam_n</th>\n",
       "      <td>7.215715</td>\n",
       "      <td>2.352900</td>\n",
       "    </tr>\n",
       "    <tr>\n",
       "      <th>grc</th>\n",
       "      <td>3.963537</td>\n",
       "      <td>2.499063</td>\n",
       "    </tr>\n",
       "    <tr>\n",
       "      <th>grc97</th>\n",
       "      <td>3.705372</td>\n",
       "      <td>2.572387</td>\n",
       "    </tr>\n",
       "    <tr>\n",
       "      <th>hohage</th>\n",
       "      <td>44.436717</td>\n",
       "      <td>11.620372</td>\n",
       "    </tr>\n",
       "    <tr>\n",
       "      <th>hohedu</th>\n",
       "      <td>2.768104</td>\n",
       "      <td>2.656106</td>\n",
       "    </tr>\n",
       "    <tr>\n",
       "      <th>hohsex</th>\n",
       "      <td>0.925185</td>\n",
       "      <td>0.263095</td>\n",
       "    </tr>\n",
       "    <tr>\n",
       "      <th>hohwag</th>\n",
       "      <td>586.985312</td>\n",
       "      <td>788.133664</td>\n",
       "    </tr>\n",
       "    <tr>\n",
       "      <th>indig</th>\n",
       "      <td>0.298324</td>\n",
       "      <td>0.457525</td>\n",
       "    </tr>\n",
       "    <tr>\n",
       "      <th>min_dist</th>\n",
       "      <td>103.447520</td>\n",
       "      <td>42.089441</td>\n",
       "    </tr>\n",
       "    <tr>\n",
       "      <th>sc</th>\n",
       "      <td>0.819818</td>\n",
       "      <td>0.384342</td>\n",
       "    </tr>\n",
       "    <tr>\n",
       "      <th>sc97</th>\n",
       "      <td>0.813922</td>\n",
       "      <td>0.389172</td>\n",
       "    </tr>\n",
       "    <tr>\n",
       "      <th>sex</th>\n",
       "      <td>0.512211</td>\n",
       "      <td>0.499854</td>\n",
       "    </tr>\n",
       "    <tr>\n",
       "      <th>welfare_index</th>\n",
       "      <td>690.346564</td>\n",
       "      <td>139.491130</td>\n",
       "    </tr>\n",
       "  </tbody>\n",
       "</table>\n",
       "</div>"
      ],
      "text/plain": [
       "                     Mean  Standard Deviation\n",
       "age             11.366460            3.167744\n",
       "dist_cap       147.674452           76.063134\n",
       "dist_sec         2.418910            2.234109\n",
       "fam_n            7.215715            2.352900\n",
       "grc              3.963537            2.499063\n",
       "grc97            3.705372            2.572387\n",
       "hohage          44.436717           11.620372\n",
       "hohedu           2.768104            2.656106\n",
       "hohsex           0.925185            0.263095\n",
       "hohwag         586.985312          788.133664\n",
       "indig            0.298324            0.457525\n",
       "min_dist       103.447520           42.089441\n",
       "sc               0.819818            0.384342\n",
       "sc97             0.813922            0.389172\n",
       "sex              0.512211            0.499854\n",
       "welfare_index  690.346564          139.491130"
      ]
     },
     "execution_count": 8,
     "metadata": {},
     "output_type": "execute_result"
    }
   ],
   "source": [
    "# Dropping the variables which are not required\n",
    "pr_stats = pr.drop(['year', 'folnum', 'village'], axis = 1)\n",
    "\n",
    "#Computing mean and standard deviation\n",
    "progresa_mean = pd.DataFrame(pr_stats.mean().sort_index(ascending=True))\n",
    "progresa_std = pd.DataFrame(pr_stats.std().sort_index(ascending=True))\n",
    "\n",
    "# Converting to data frame\n",
    "progresa_mean_std = pd.DataFrame(pd.concat([progresa_mean, progresa_std], axis=1, join='inner'))\n",
    "progresa_mean_std.columns = ['Mean', 'Standard Deviation']\n",
    "\n",
    "progresa_mean_std"
   ]
  },
  {
   "cell_type": "markdown",
   "metadata": {},
   "source": [
    "### 1.2 Differences at baseline?\n",
    "\n",
    "Are the baseline (1997) demographic characteristics **for the poor**  different in treatment and control villages? Hint: Use a T-Test to determine whether there is a statistically significant difference in the average values of each of the variables in the dataset. Focus only on the data from 1997 for individuals who are poor (i.e., poor=='pobre').\n",
    "\n",
    "Present your results in a single table with the following columns and 14 (or so) rows:\n",
    "\n",
    "| Variable name | Average value (Treatment villages) | Average value (Control villages) | Difference (Treat - Control) | p-value |\n",
    "|------|------|------|------|------|\n",
    "|Male|?|?|?|?|\n"
   ]
  },
  {
   "cell_type": "markdown",
   "metadata": {},
   "source": [
    "Let us determine whether there is a statistically significant difference in the average values of the variables by using T-Test."
   ]
  },
  {
   "cell_type": "code",
   "execution_count": 9,
   "metadata": {
    "collapsed": false
   },
   "outputs": [
    {
     "data": {
      "text/html": [
       "<div>\n",
       "<table border=\"1\" class=\"dataframe\">\n",
       "  <thead>\n",
       "    <tr style=\"text-align: right;\">\n",
       "      <th></th>\n",
       "      <th>Treatment(Avg)</th>\n",
       "      <th>Control(Avg)</th>\n",
       "      <th>Diff(Treat - Contr)</th>\n",
       "      <th>T_value</th>\n",
       "      <th>P_value</th>\n",
       "    </tr>\n",
       "  </thead>\n",
       "  <tbody>\n",
       "    <tr>\n",
       "      <th>age</th>\n",
       "      <td>10.742023</td>\n",
       "      <td>10.716991</td>\n",
       "      <td>0.025032</td>\n",
       "      <td>0.708630</td>\n",
       "      <td>4.785594e-01</td>\n",
       "    </tr>\n",
       "    <tr>\n",
       "      <th>dist_cap</th>\n",
       "      <td>153.769730</td>\n",
       "      <td>150.829074</td>\n",
       "      <td>2.940656</td>\n",
       "      <td>3.339081</td>\n",
       "      <td>8.415005e-04</td>\n",
       "    </tr>\n",
       "    <tr>\n",
       "      <th>dist_sec</th>\n",
       "      <td>2.507662</td>\n",
       "      <td>2.453122</td>\n",
       "      <td>0.054540</td>\n",
       "      <td>2.100433</td>\n",
       "      <td>3.569843e-02</td>\n",
       "    </tr>\n",
       "    <tr>\n",
       "      <th>fam_n</th>\n",
       "      <td>7.302469</td>\n",
       "      <td>7.281327</td>\n",
       "      <td>0.021142</td>\n",
       "      <td>0.794167</td>\n",
       "      <td>4.271039e-01</td>\n",
       "    </tr>\n",
       "    <tr>\n",
       "      <th>grc</th>\n",
       "      <td>3.543050</td>\n",
       "      <td>3.531599</td>\n",
       "      <td>0.011450</td>\n",
       "      <td>0.400196</td>\n",
       "      <td>6.890151e-01</td>\n",
       "    </tr>\n",
       "    <tr>\n",
       "      <th>grc97</th>\n",
       "      <td>3.543050</td>\n",
       "      <td>3.531599</td>\n",
       "      <td>0.011450</td>\n",
       "      <td>0.400196</td>\n",
       "      <td>6.890151e-01</td>\n",
       "    </tr>\n",
       "    <tr>\n",
       "      <th>hohage</th>\n",
       "      <td>44.276918</td>\n",
       "      <td>43.648828</td>\n",
       "      <td>0.628090</td>\n",
       "      <td>4.775962</td>\n",
       "      <td>1.796243e-06</td>\n",
       "    </tr>\n",
       "    <tr>\n",
       "      <th>hohedu</th>\n",
       "      <td>2.590348</td>\n",
       "      <td>2.663139</td>\n",
       "      <td>-0.072791</td>\n",
       "      <td>-2.541229</td>\n",
       "      <td>1.105093e-02</td>\n",
       "    </tr>\n",
       "    <tr>\n",
       "      <th>hohsex</th>\n",
       "      <td>0.922947</td>\n",
       "      <td>0.924656</td>\n",
       "      <td>-0.001709</td>\n",
       "      <td>-0.566312</td>\n",
       "      <td>5.711858e-01</td>\n",
       "    </tr>\n",
       "    <tr>\n",
       "      <th>hohwag</th>\n",
       "      <td>573.163558</td>\n",
       "      <td>544.339544</td>\n",
       "      <td>28.824015</td>\n",
       "      <td>3.594588</td>\n",
       "      <td>3.253835e-04</td>\n",
       "    </tr>\n",
       "    <tr>\n",
       "      <th>indig</th>\n",
       "      <td>0.332207</td>\n",
       "      <td>0.325986</td>\n",
       "      <td>0.006222</td>\n",
       "      <td>1.161714</td>\n",
       "      <td>2.453603e-01</td>\n",
       "    </tr>\n",
       "    <tr>\n",
       "      <th>min_dist</th>\n",
       "      <td>103.237854</td>\n",
       "      <td>107.152915</td>\n",
       "      <td>-3.915060</td>\n",
       "      <td>-8.206584</td>\n",
       "      <td>2.358312e-16</td>\n",
       "    </tr>\n",
       "    <tr>\n",
       "      <th>sc</th>\n",
       "      <td>0.815186</td>\n",
       "      <td>0.822697</td>\n",
       "      <td>-0.007511</td>\n",
       "      <td>-1.668745</td>\n",
       "      <td>9.517806e-02</td>\n",
       "    </tr>\n",
       "    <tr>\n",
       "      <th>sc97</th>\n",
       "      <td>0.815186</td>\n",
       "      <td>0.822697</td>\n",
       "      <td>-0.007511</td>\n",
       "      <td>-1.668745</td>\n",
       "      <td>9.517806e-02</td>\n",
       "    </tr>\n",
       "    <tr>\n",
       "      <th>sex</th>\n",
       "      <td>0.505052</td>\n",
       "      <td>0.519317</td>\n",
       "      <td>-0.014265</td>\n",
       "      <td>-2.506686</td>\n",
       "      <td>1.219172e-02</td>\n",
       "    </tr>\n",
       "    <tr>\n",
       "      <th>welfare_index</th>\n",
       "      <td>659.579100</td>\n",
       "      <td>655.428377</td>\n",
       "      <td>4.150723</td>\n",
       "      <td>3.188594</td>\n",
       "      <td>1.431016e-03</td>\n",
       "    </tr>\n",
       "  </tbody>\n",
       "</table>\n",
       "</div>"
      ],
      "text/plain": [
       "               Treatment(Avg)  Control(Avg)  Diff(Treat - Contr)   T_value  \\\n",
       "age                 10.742023     10.716991             0.025032  0.708630   \n",
       "dist_cap           153.769730    150.829074             2.940656  3.339081   \n",
       "dist_sec             2.507662      2.453122             0.054540  2.100433   \n",
       "fam_n                7.302469      7.281327             0.021142  0.794167   \n",
       "grc                  3.543050      3.531599             0.011450  0.400196   \n",
       "grc97                3.543050      3.531599             0.011450  0.400196   \n",
       "hohage              44.276918     43.648828             0.628090  4.775962   \n",
       "hohedu               2.590348      2.663139            -0.072791 -2.541229   \n",
       "hohsex               0.922947      0.924656            -0.001709 -0.566312   \n",
       "hohwag             573.163558    544.339544            28.824015  3.594588   \n",
       "indig                0.332207      0.325986             0.006222  1.161714   \n",
       "min_dist           103.237854    107.152915            -3.915060 -8.206584   \n",
       "sc                   0.815186      0.822697            -0.007511 -1.668745   \n",
       "sc97                 0.815186      0.822697            -0.007511 -1.668745   \n",
       "sex                  0.505052      0.519317            -0.014265 -2.506686   \n",
       "welfare_index      659.579100    655.428377             4.150723  3.188594   \n",
       "\n",
       "                    P_value  \n",
       "age            4.785594e-01  \n",
       "dist_cap       8.415005e-04  \n",
       "dist_sec       3.569843e-02  \n",
       "fam_n          4.271039e-01  \n",
       "grc            6.890151e-01  \n",
       "grc97          6.890151e-01  \n",
       "hohage         1.796243e-06  \n",
       "hohedu         1.105093e-02  \n",
       "hohsex         5.711858e-01  \n",
       "hohwag         3.253835e-04  \n",
       "indig          2.453603e-01  \n",
       "min_dist       2.358312e-16  \n",
       "sc             9.517806e-02  \n",
       "sc97           9.517806e-02  \n",
       "sex            1.219172e-02  \n",
       "welfare_index  1.431016e-03  "
      ]
     },
     "execution_count": 9,
     "metadata": {},
     "output_type": "execute_result"
    }
   ],
   "source": [
    "# Extracting only poor households for the year 1997\n",
    "progresa_poor = pr[(pr['poor'] == 'pobre') & (pr['year'] == 97)]\n",
    "\n",
    "# Segregating the treatment and control groups\n",
    "p97_t = progresa_poor[progresa_poor['progresa'] != 'basal'].drop(['progresa','poor','year','folnum','village'], axis = 1)\n",
    "p97_c = progresa_poor[progresa_poor['progresa'] == 'basal'].drop(['progresa','poor','year','folnum','village'], axis = 1)\n",
    "\n",
    "# Computing mean\n",
    "p97_t_mean = p97_t.mean()\n",
    "p97_c_mean = p97_c.mean()\n",
    "p97_diff_t_c = p97_t_mean - p97_c_mean\n",
    "\n",
    "# Adding our mean values to a new data frame and creating new columns for T-Value and P-Value\n",
    "p97_tc_mean = pd.DataFrame(pd.concat([p97_t_mean, p97_c_mean, p97_diff_t_c], axis=1, join='inner'))\n",
    "p97_tc_mean.columns = ['Treatment(Avg)', 'Control(Avg)', 'Diff(Treat - Contr)']\n",
    "p97_tc_mean['T_value'] = \"\"\n",
    "p97_tc_mean['P_value'] = \"\"\n",
    "\n",
    "# Computing the T-Value and P-Value using T-Test\n",
    "for index in range(len(p97_tc_mean)):  \n",
    "    ttest = scipy.stats.ttest_ind(p97_t.iloc[::,index:index+1].dropna(), p97_c.iloc[::,index:index+1].dropna())\n",
    "    p97_tc_mean.iloc[index,3:4] = ttest[0]\n",
    "    p97_tc_mean.iloc[index,4:5] = ttest[1]\n",
    "\n",
    "p97_tc_mean.T_value = p97_tc_mean.T_value.str[0]\n",
    "p97_tc_mean.P_value = p97_tc_mean.P_value.str[0]\n",
    "\n",
    "p97_tc_mean.sort_index(ascending=True)"
   ]
  },
  {
   "cell_type": "markdown",
   "metadata": {},
   "source": [
    "### 1.3 Interpretation\n",
    "\n",
    "* A: Are there statistically significant differences between treatment and control villages as baseline? \n",
    "* B: Why does it matter if there are differences at baseline?\n",
    "* C: What does this imply about how to measure the impact of the treatment?"
   ]
  },
  {
   "cell_type": "markdown",
   "metadata": {},
   "source": [
    "#### Answer 1.3 A\n",
    "We will consider the variables having P-value < 0.05 as statistically significant.\n",
    "There are statistically significant differences between treatment and control villages at baseline for following demographic characteristics:\n",
    "1. dist_cap\n",
    "2. dist_sec\n",
    "3. min_dist\n",
    "4. hoh_age\n",
    "5. hoh_edu\n",
    "6. hoh_wag\n",
    "7. sex\n",
    "8. welfare_index\n",
    "\n",
    "#### Answer 1.3 B\n",
    "This experiment runs on the assumption that the villages for progresa have been randomly chosen. Hence, on an average, all demographic characteristics should cancel each other out.\n",
    "If we find differences at the baseline, it would indicate that the experiment is NOT random and thus the results of the experiment would suffer from biases.\n",
    "\n",
    "#### Answer 1.3 C\n",
    "Since we have found differences, it would imply that the impact of the treatment would not be based only on the treatment but other factors (demographic characteristics) as well.\n"
   ]
  },
  {
   "cell_type": "markdown",
   "metadata": {},
   "source": [
    "### 1.4 Graphical exploration, part 1\n",
    "\n",
    "For each level of household head education, compute the average enrollment rate in 1997. Create a scatterplot that shows this relationship. What do you notice?"
   ]
  },
  {
   "cell_type": "code",
   "execution_count": 11,
   "metadata": {
    "collapsed": false
   },
   "outputs": [
    {
     "data": {
      "text/plain": [
       "<matplotlib.text.Text at 0x8a5182cef0>"
      ]
     },
     "execution_count": 11,
     "metadata": {},
     "output_type": "execute_result"
    },
    {
     "data": {
      "image/png": "[encoded data removed]",
      "text/plain": [
       "<matplotlib.figure.Figure at 0x8a505733c8>"
      ]
     },
     "metadata": {},
     "output_type": "display_data"
    }
   ],
   "source": [
    "# Computing average enrollment rate based on groups of household head's education\n",
    "headEdu_enroll_97 = pr[pr.poor == 'pobre'].groupby(['hohedu']).mean()\n",
    "headEdu_enroll_97.reset_index(level=0, inplace=True)\n",
    "\n",
    "# Plotting the scatter plot\n",
    "plt.scatter(headEdu_enroll_97['hohedu'], headEdu_enroll_97['sc97'])\n",
    "plt.xlabel('Years of education of household head')\n",
    "plt.ylabel('Rate of enrollment')\n",
    "plt.title('Enrollment rate based on household head\\'s education')"
   ]
  },
  {
   "cell_type": "markdown",
   "metadata": {},
   "source": [
    "#### Interpretation\n",
    "From the graph we can see a very clear positive correlation wherein, with the increase in the number of years of education of the household head, the enrollment rate of the kid also increases. This confirms our intuition that educated parents are more likely to get their kids educated.\n",
    "\n",
    "There are however a few outliers in our plot. One particularly interesting outlier is when years of education of household head is 20 years. This would suggest that the most educated parents do not send their kids to school and it is counter-intuitive. Let us do some more exploration to check the validity of this."
   ]
  },
  {
   "cell_type": "code",
   "execution_count": 45,
   "metadata": {
    "collapsed": false
   },
   "outputs": [
    {
     "data": {
      "text/plain": [
       "hohedu\n",
       "0     22082\n",
       "1      5280\n",
       "2     11678\n",
       "3     15162\n",
       "4      5650\n",
       "5      2494\n",
       "6     10736\n",
       "7       370\n",
       "8       588\n",
       "9      2194\n",
       "10      106\n",
       "11       84\n",
       "12      364\n",
       "13      152\n",
       "14       88\n",
       "15       66\n",
       "16       74\n",
       "17       30\n",
       "18       48\n",
       "20        4\n",
       "dtype: int64"
      ]
     },
     "execution_count": 45,
     "metadata": {},
     "output_type": "execute_result"
    }
   ],
   "source": [
    "# Checking the number of samples at each level of house hold head education\n",
    "pr.groupby('hohedu').size()"
   ]
  },
  {
   "cell_type": "markdown",
   "metadata": {},
   "source": [
    "#### Answer 1.4\n",
    "\n",
    "We see that we do not have many samples when the education of household head is 14 years or more. And all our outliers belong to this category.\n",
    "Hence we can ignore the outliers on the basis of small sample size and conclude that there is a positive linear correlation between number of years of education of head of household and enrollment rate."
   ]
  },
  {
   "cell_type": "markdown",
   "metadata": {},
   "source": [
    "### 1.5 Graphical exploration, part 2\n",
    "\n",
    "Create a histogram of village enrollment rates **among poor households in treated villages**, before and after treatment. Specifically, for each village, calculate the average rate of enrollment of poor households in treated villages in 1997, then compute the average rate of enrollment of poor households in treated villages in 1998. Create two separate histograms showing the distribution of these average enrollments rates, one histogram for 1997 and one histogram for 1998. On each histogram, draw a vertical line that intersects the x-axis at the average value (across all households). Does there appear to be a difference? Is this difference statistically significant?"
   ]
  },
  {
   "cell_type": "markdown",
   "metadata": {},
   "source": [
    "Let us create histograms to explore enrollment rates among poor in villages before and after treatment"
   ]
  },
  {
   "cell_type": "code",
   "execution_count": 12,
   "metadata": {
    "collapsed": false
   },
   "outputs": [
    {
     "name": "stdout",
     "output_type": "stream",
     "text": [
      "Pre Treatment Enrollment % (in 1997):  81.38394110596501 % \n",
      "Post Treatment Enrollment % (in 1997):  82.95362042630731 %\n",
      "Difference in Pre and Post Treatment Enrollment:  1.5696793203423027 %\n"
     ]
    },
    {
     "data": {
      "image/png": "[encoded data removed]",
      "text/plain": [
       "<matplotlib.figure.Figure at 0x8a5180c240>"
      ]
     },
     "metadata": {},
     "output_type": "display_data"
    },
    {
     "data": {
      "image/png": "[encoded data removed]",
      "text/plain": [
       "<matplotlib.figure.Figure at 0x8a51b1dc50>"
      ]
     },
     "metadata": {},
     "output_type": "display_data"
    }
   ],
   "source": [
    "# Considering poor households in treated villages seperately, in 97 and 98 and grouping by villages\n",
    "pre_treat_village =  pr[(pr.poor == 'pobre') & (pr.progresa == 'basal') & (pr.year == 97)].groupby('village').mean()\n",
    "post_treat_village = pr[(pr.poor == 'pobre') & (pr.progresa == 'basal') & (pr.year == 98)].groupby('village').mean()\n",
    "\n",
    "# Calculating mean enrollment rate\n",
    "pre_treat_mean = pre_treat_village['sc'].mean()*100\n",
    "post_treat_mean = post_treat_village['sc'].mean()*100\n",
    "difference_in_mean = post_treat_mean - pre_treat_mean\n",
    "\n",
    "# Plotting histograms for the average rate of enrollment of poor households in treated villages in 97 and 98\n",
    "plt.figure(1)\n",
    "plt.hist(pre_treat_village['sc'].values, color = 'r', range = [0.4,1])\n",
    "plt.axvline(pre_treat_village['sc'].mean(), color = 'b', linestyle = 'dashed', linewidth = 3)\n",
    "plt.xlabel('Rate of Enrollment')\n",
    "plt.ylabel('Number of Villages')\n",
    "plt.title('Pre Treatment histogram of average enrollments rates')\n",
    "\n",
    "plt.figure(2)\n",
    "plt.hist(post_treat_village['sc'].values, color = 'g', range = [0.4,1])\n",
    "plt.axvline(post_treat_village['sc'].mean(), color = 'b', linestyle = 'dashed', linewidth = 3)\n",
    "plt.xlabel('Rate of Enrollment')\n",
    "plt.ylabel('Number of Villages')\n",
    "plt.title('Post Treatment histogram of average enrollments rates')\n",
    "\n",
    "print('Pre Treatment Enrollment % (in 1997): ', pre_treat_mean, '%',\n",
    "      '\\nPost Treatment Enrollment % (in 1997): ', post_treat_mean, '%'\n",
    "      '\\nDifference in Pre and Post Treatment Enrollment: ', difference_in_mean, '%',)"
   ]
  },
  {
   "cell_type": "markdown",
   "metadata": {},
   "source": [
    "From the individual histograms we can see that the mean is close to each other and there is no major shift in the pattern. Let us plot these histograms together to evaluate them critically."
   ]
  },
  {
   "cell_type": "code",
   "execution_count": 13,
   "metadata": {
    "collapsed": false
   },
   "outputs": [
    {
     "data": {
      "text/plain": [
       "<matplotlib.text.Text at 0x8a51b634a8>"
      ]
     },
     "execution_count": 13,
     "metadata": {},
     "output_type": "execute_result"
    },
    {
     "data": {
      "image/png": "[encoded data removed]",
      "text/plain": [
       "<matplotlib.figure.Figure at 0x8a5181bc50>"
      ]
     },
     "metadata": {},
     "output_type": "display_data"
    }
   ],
   "source": [
    "# Plotting overlapping histograms for the average rate of enrollment of poor households in treated villages in 97 and 98\n",
    "plt.hist(pre_treat_village['sc'].values, color = 'r', alpha = 0.4, range = [0.4,1])\n",
    "plt.axvline(pre_treat_village['sc'].mean(), color = 'r', linestyle = 'dashed', linewidth = 3)\n",
    "plt.hist(post_treat_village['sc'].values, color = 'g', alpha = 0.4, range = [0.4,1])\n",
    "plt.axvline(post_treat_village['sc'].mean(), color = 'g', linestyle = 'dashed', linewidth = 3)\n",
    "\n",
    "plt.xlabel('Rate of Enrollment')\n",
    "plt.ylabel('Number of Villages')\n",
    "plt.title('Pre & Post Treatment histogram of average enrollment')"
   ]
  },
  {
   "cell_type": "markdown",
   "metadata": {},
   "source": [
    "For the above, note that Pre Treatment effects are in red color, post treatment are in green color and the overlap is brown in color.\n",
    "We do see some amount of change but to check if it is significant let us run a T-test."
   ]
  },
  {
   "cell_type": "code",
   "execution_count": 14,
   "metadata": {
    "collapsed": false
   },
   "outputs": [
    {
     "data": {
      "text/plain": [
       "Ttest_indResult(statistic=2.0157134865156379, pvalue=0.04424870036572115)"
      ]
     },
     "execution_count": 14,
     "metadata": {},
     "output_type": "execute_result"
    }
   ],
   "source": [
    "tt_hist = scipy.stats.ttest_ind(post_treat_village['sc'].dropna(), pre_treat_village['sc'].dropna())\n",
    "tt_hist"
   ]
  },
  {
   "cell_type": "markdown",
   "metadata": {},
   "source": [
    "#### Answer 1.5\n",
    "\n",
    "From graphical exploration, we see that there is some difference in the average rate of enrollment of poor household in 97 and 98. There is a very clear right skew in the 98 data which indicates that the enrollments has increased.\n",
    "\n",
    "When we check the actual numbers, there is an increase of 1.5% in the average rate of enrollment of poor household. On running the T-test we see that the p value is less than 0.05 which is why the difference is statistically significant."
   ]
  },
  {
   "cell_type": "markdown",
   "metadata": {},
   "source": [
    "## Part 2: Measuring Impact\n",
    "\n",
    "Our goal is to estimate the causal impact of the PROGRESA program on the social and economic outcomes of individuals in Mexico. We will focus on the impact of the program on the poor (those with poor=='pobre'), since only the poor were eligible to receive the PROGRESA assistance.\n",
    "\n",
    "### 2.1 Simple differences: T-test\n",
    "\n",
    "Begin by estimating the impact of Progresa using \"simple differences.\" Restricting yourself to data from 1998 (after treatment), calculate the average enrollment rate among **poor** households in the Treatment villages and the average enrollment rate among **poor** households in the control villages. Use a t-test to determine if this difference is statistically significant. What do you conclude?"
   ]
  },
  {
   "cell_type": "code",
   "execution_count": 15,
   "metadata": {
    "collapsed": false
   },
   "outputs": [
    {
     "data": {
      "text/html": [
       "<div>\n",
       "<table border=\"1\" class=\"dataframe\">\n",
       "  <thead>\n",
       "    <tr style=\"text-align: right;\">\n",
       "      <th></th>\n",
       "      <th>Control Mean</th>\n",
       "      <th>Treatment Mean</th>\n",
       "      <th>Difference</th>\n",
       "      <th>T Value</th>\n",
       "      <th>P Value</th>\n",
       "    </tr>\n",
       "  </thead>\n",
       "  <tbody>\n",
       "    <tr>\n",
       "      <th>0</th>\n",
       "      <td>0.807637</td>\n",
       "      <td>0.846479</td>\n",
       "      <td>0.038842</td>\n",
       "      <td>8.358721</td>\n",
       "      <td>6.636344e-17</td>\n",
       "    </tr>\n",
       "  </tbody>\n",
       "</table>\n",
       "</div>"
      ],
      "text/plain": [
       "   Control Mean  Treatment Mean  Difference   T Value       P Value\n",
       "0      0.807637        0.846479    0.038842  8.358721  6.636344e-17"
      ]
     },
     "execution_count": 15,
     "metadata": {},
     "output_type": "execute_result"
    }
   ],
   "source": [
    "# Extracting control and treatment groups\n",
    "contr =   pr[(pr.year == 98) & (pr.poor == 'pobre') & (pr.progresa == '0')]\n",
    "treat = pr[(pr.year == 98) & (pr.poor == 'pobre') & (pr.progresa == 'basal')]\n",
    "\n",
    "# Calculating mean\n",
    "treat_mean = treat['sc'].mean()\n",
    "contr_mean = contr.sc.mean()\n",
    "\n",
    "# Running T-Test\n",
    "tt_contr_treat = scipy.stats.ttest_ind(treat['sc'].dropna(),contr['sc'].dropna())\n",
    "\n",
    "# Adding to data frame\n",
    "pd.DataFrame.from_items([('Control Mean', [contr_mean]), \n",
    "                         ('Treatment Mean', [treat_mean]), \n",
    "                         ('Difference', [treat_mean - contr_mean]),\n",
    "                         ('T Value', [tt_contr_treat[0]]), ('P Value', [tt_contr_treat[1]])])"
   ]
  },
  {
   "cell_type": "markdown",
   "metadata": {},
   "source": [
    "#### Answer 2.1\n",
    "\n",
    "After using simple difference to compare the rate of enrollment in treatment vs control village, we get a p-value of 6.63e-17 which is less than 0.05. This means that the probability of getting the difference we did because of random chance is only a miniscule 6.63e-17.\n",
    "This is indication that that the difference is statistically significant.\n",
    "\n",
    "If we only go by simple difference, we conclude that the treatment villages have a higher rate of enrollment in 1998 as compared to the control villages and this higher rate of enrollment is statistically significant."
   ]
  },
  {
   "cell_type": "markdown",
   "metadata": {},
   "source": [
    "### 2.2 Simple differences: Regression\n",
    "\n",
    "Estimate the effects of Progresa on enrollment using a regression model, by regressing the 1998 enrollment rates **of the poor** on treatment assignment. Discuss the following:\n",
    "\n",
    "* Based on this model, how much did Progresa increase the likelihood of a child enrolling?\n",
    "* How does your regression estimate compare to your t-test estimate from part 2.1?\n",
    "* Based on this regression model, can we reject the null hypothesis that the treatment effects are zero? \n",
    "* What is the counterfactual assumption underlying this regression?"
   ]
  },
  {
   "cell_type": "code",
   "execution_count": 16,
   "metadata": {
    "collapsed": false
   },
   "outputs": [
    {
     "data": {
      "text/html": [
       "<table class=\"simpletable\">\n",
       "<caption>OLS Regression Results</caption>\n",
       "<tr>\n",
       "  <th>Dep. Variable:</th>           <td>sc</td>        <th>  R-squared:         </th> <td>   0.003</td> \n",
       "</tr>\n",
       "<tr>\n",
       "  <th>Model:</th>                   <td>OLS</td>       <th>  Adj. R-squared:    </th> <td>   0.003</td> \n",
       "</tr>\n",
       "<tr>\n",
       "  <th>Method:</th>             <td>Least Squares</td>  <th>  F-statistic:       </th> <td>   69.87</td> \n",
       "</tr>\n",
       "<tr>\n",
       "  <th>Date:</th>             <td>Tue, 26 Jan 2016</td> <th>  Prob (F-statistic):</th> <td>6.64e-17</td> \n",
       "</tr>\n",
       "<tr>\n",
       "  <th>Time:</th>                 <td>07:27:12</td>     <th>  Log-Likelihood:    </th> <td> -11926.</td> \n",
       "</tr>\n",
       "<tr>\n",
       "  <th>No. Observations:</th>      <td> 27450</td>      <th>  AIC:               </th> <td>2.386e+04</td>\n",
       "</tr>\n",
       "<tr>\n",
       "  <th>Df Residuals:</th>          <td> 27448</td>      <th>  BIC:               </th> <td>2.387e+04</td>\n",
       "</tr>\n",
       "<tr>\n",
       "  <th>Df Model:</th>              <td>     1</td>      <th>                     </th>     <td> </td>    \n",
       "</tr>\n",
       "<tr>\n",
       "  <th>Covariance Type:</th>      <td>nonrobust</td>    <th>                     </th>     <td> </td>    \n",
       "</tr>\n",
       "</table>\n",
       "<table class=\"simpletable\">\n",
       "<tr>\n",
       "          <td></td>             <th>coef</th>     <th>std err</th>      <th>t</th>      <th>P>|t|</th> <th>[95.0% Conf. Int.]</th> \n",
       "</tr>\n",
       "<tr>\n",
       "  <th>Intercept</th>         <td>    0.8076</td> <td>    0.004</td> <td>  220.676</td> <td> 0.000</td> <td>    0.800     0.815</td>\n",
       "</tr>\n",
       "<tr>\n",
       "  <th>progresa[T.basal]</th> <td>    0.0388</td> <td>    0.005</td> <td>    8.359</td> <td> 0.000</td> <td>    0.030     0.048</td>\n",
       "</tr>\n",
       "</table>\n",
       "<table class=\"simpletable\">\n",
       "<tr>\n",
       "  <th>Omnibus:</th>       <td>7638.939</td> <th>  Durbin-Watson:     </th> <td>   1.734</td> \n",
       "</tr>\n",
       "<tr>\n",
       "  <th>Prob(Omnibus):</th>  <td> 0.000</td>  <th>  Jarque-Bera (JB):  </th> <td>15767.534</td>\n",
       "</tr>\n",
       "<tr>\n",
       "  <th>Skew:</th>           <td>-1.767</td>  <th>  Prob(JB):          </th> <td>    0.00</td> \n",
       "</tr>\n",
       "<tr>\n",
       "  <th>Kurtosis:</th>       <td> 4.140</td>  <th>  Cond. No.          </th> <td>    3.01</td> \n",
       "</tr>\n",
       "</table>"
      ],
      "text/plain": [
       "<class 'statsmodels.iolib.summary.Summary'>\n",
       "\"\"\"\n",
       "                            OLS Regression Results                            \n",
       "==============================================================================\n",
       "Dep. Variable:                     sc   R-squared:                       0.003\n",
       "Model:                            OLS   Adj. R-squared:                  0.003\n",
       "Method:                 Least Squares   F-statistic:                     69.87\n",
       "Date:                Tue, 26 Jan 2016   Prob (F-statistic):           6.64e-17\n",
       "Time:                        07:27:12   Log-Likelihood:                -11926.\n",
       "No. Observations:               27450   AIC:                         2.386e+04\n",
       "Df Residuals:                   27448   BIC:                         2.387e+04\n",
       "Df Model:                           1                                         \n",
       "Covariance Type:            nonrobust                                         \n",
       "=====================================================================================\n",
       "                        coef    std err          t      P>|t|      [95.0% Conf. Int.]\n",
       "-------------------------------------------------------------------------------------\n",
       "Intercept             0.8076      0.004    220.676      0.000         0.800     0.815\n",
       "progresa[T.basal]     0.0388      0.005      8.359      0.000         0.030     0.048\n",
       "==============================================================================\n",
       "Omnibus:                     7638.939   Durbin-Watson:                   1.734\n",
       "Prob(Omnibus):                  0.000   Jarque-Bera (JB):            15767.534\n",
       "Skew:                          -1.767   Prob(JB):                         0.00\n",
       "Kurtosis:                       4.140   Cond. No.                         3.01\n",
       "==============================================================================\n",
       "\n",
       "Warnings:\n",
       "[1] Standard Errors assume that the covariance matrix of the errors is correctly specified.\n",
       "\"\"\""
      ]
     },
     "execution_count": 16,
     "metadata": {},
     "output_type": "execute_result"
    }
   ],
   "source": [
    "# Considering only the poor from 1998\n",
    "post_treat = pr[(pr.year == 98) & (pr.poor == 'pobre')]\n",
    "\n",
    "# Fitting linear model\n",
    "post_treat_model = smf.ols(formula = 'sc ~ progresa', data = post_treat).fit()\n",
    "\n",
    "# post_treat_model.pvalues\n",
    "post_treat_model.summary()"
   ]
  },
  {
   "cell_type": "code",
   "execution_count": 19,
   "metadata": {
    "collapsed": false
   },
   "outputs": [
    {
     "data": {
      "text/plain": [
       "Intercept            0.003660\n",
       "progresa[T.basal]    0.004647\n",
       "dtype: float64"
      ]
     },
     "execution_count": 19,
     "metadata": {},
     "output_type": "execute_result"
    }
   ],
   "source": [
    "# Standard error\n",
    "post_treat_model.bse"
   ]
  },
  {
   "cell_type": "markdown",
   "metadata": {},
   "source": [
    "#### Answer 2.2\n",
    "\n",
    "#### Answer (a)\n",
    "Based on the model, since the coefficient progresa is 0.0388, we can say that progresa improved the likelihood of a child getting enrolled in school by 0.038 times.\n",
    "\n",
    "#### Answer (b)\n",
    "Our regression parameter estimate(beta1) is the same as the t-test estimate from part 2.1. This is because in regression, computation of parameter beta1 involves taking difference of the observed value with the mean values and this is what we are doing in the t-test too.\n",
    "\n",
    "#### Answer (c)\n",
    "Our p-value is less than 0.05. This means that the probability of observing the same enrollment rate values if our treatment effect of progesa was zero is less than 0.05. In other words, we can say that we are more than 95% confident that the values of enrollment are owing to the treatment effect progresa had and not because of random chance. Hence we can reject the null hypothesis that the treatment effects are zero.\n",
    "\n",
    "#### Answer (d)\n",
    "The counterfactual assumption underlying this regression is that in the absence of treatment (in this case progresa) and any pre-existing trend, the rate of enrollment in the treatment villages would have been the same as the rate of enrollment in the control villages."
   ]
  },
  {
   "cell_type": "markdown",
   "metadata": {},
   "source": [
    "### 2.3 Multiple Regression\n",
    "\n",
    "Re-run the above regression estimated but this time include a set of control variables. Include, for instance, age, distance to a secondary school, gender, education of household head, welfare index, indigenous, etc.\n",
    "\n",
    "* How do the controls affect the point estimate of treatment effect?\n",
    "* How do the controls affect the standard error on the treatment effect? \n",
    "* How do you interpret the differences (or similarities) between your estimates of 2.2 and 2.3?"
   ]
  },
  {
   "cell_type": "code",
   "execution_count": 17,
   "metadata": {
    "collapsed": false
   },
   "outputs": [
    {
     "data": {
      "text/html": [
       "<table class=\"simpletable\">\n",
       "<caption>OLS Regression Results</caption>\n",
       "<tr>\n",
       "  <th>Dep. Variable:</th>           <td>sc</td>        <th>  R-squared:         </th> <td>   0.027</td> \n",
       "</tr>\n",
       "<tr>\n",
       "  <th>Model:</th>                   <td>OLS</td>       <th>  Adj. R-squared:    </th> <td>   0.027</td> \n",
       "</tr>\n",
       "<tr>\n",
       "  <th>Method:</th>             <td>Least Squares</td>  <th>  F-statistic:       </th> <td>   107.5</td> \n",
       "</tr>\n",
       "<tr>\n",
       "  <th>Date:</th>             <td>Tue, 26 Jan 2016</td> <th>  Prob (F-statistic):</th> <td>4.31e-156</td>\n",
       "</tr>\n",
       "<tr>\n",
       "  <th>Time:</th>                 <td>07:27:17</td>     <th>  Log-Likelihood:    </th> <td> -11509.</td> \n",
       "</tr>\n",
       "<tr>\n",
       "  <th>No. Observations:</th>      <td> 27276</td>      <th>  AIC:               </th> <td>2.303e+04</td>\n",
       "</tr>\n",
       "<tr>\n",
       "  <th>Df Residuals:</th>          <td> 27268</td>      <th>  BIC:               </th> <td>2.310e+04</td>\n",
       "</tr>\n",
       "<tr>\n",
       "  <th>Df Model:</th>              <td>     7</td>      <th>                     </th>     <td> </td>    \n",
       "</tr>\n",
       "<tr>\n",
       "  <th>Covariance Type:</th>      <td>nonrobust</td>    <th>                     </th>     <td> </td>    \n",
       "</tr>\n",
       "</table>\n",
       "<table class=\"simpletable\">\n",
       "<tr>\n",
       "          <td></td>             <th>coef</th>     <th>std err</th>      <th>t</th>      <th>P>|t|</th> <th>[95.0% Conf. Int.]</th> \n",
       "</tr>\n",
       "<tr>\n",
       "  <th>Intercept</th>         <td>    0.8094</td> <td>    0.015</td> <td>   53.920</td> <td> 0.000</td> <td>    0.780     0.839</td>\n",
       "</tr>\n",
       "<tr>\n",
       "  <th>progresa[T.basal]</th> <td>    0.0353</td> <td>    0.005</td> <td>    7.631</td> <td> 0.000</td> <td>    0.026     0.044</td>\n",
       "</tr>\n",
       "<tr>\n",
       "  <th>dist_sec</th>          <td>   -0.0093</td> <td>    0.001</td> <td>   -9.104</td> <td> 0.000</td> <td>   -0.011    -0.007</td>\n",
       "</tr>\n",
       "<tr>\n",
       "  <th>hohedu</th>            <td>    0.0156</td> <td>    0.001</td> <td>   17.434</td> <td> 0.000</td> <td>    0.014     0.017</td>\n",
       "</tr>\n",
       "<tr>\n",
       "  <th>welfare_index</th>     <td>   -0.0001</td> <td> 1.98e-05</td> <td>   -7.050</td> <td> 0.000</td> <td>   -0.000    -0.000</td>\n",
       "</tr>\n",
       "<tr>\n",
       "  <th>indig</th>             <td>    0.0184</td> <td>    0.005</td> <td>    3.369</td> <td> 0.001</td> <td>    0.008     0.029</td>\n",
       "</tr>\n",
       "<tr>\n",
       "  <th>dist_cap</th>          <td>    0.0002</td> <td> 4.27e-05</td> <td>    3.898</td> <td> 0.000</td> <td> 8.27e-05     0.000</td>\n",
       "</tr>\n",
       "<tr>\n",
       "  <th>min_dist</th>          <td>    0.0004</td> <td> 7.32e-05</td> <td>    5.236</td> <td> 0.000</td> <td>    0.000     0.001</td>\n",
       "</tr>\n",
       "</table>\n",
       "<table class=\"simpletable\">\n",
       "<tr>\n",
       "  <th>Omnibus:</th>       <td>7212.133</td> <th>  Durbin-Watson:     </th> <td>   1.762</td> \n",
       "</tr>\n",
       "<tr>\n",
       "  <th>Prob(Omnibus):</th>  <td> 0.000</td>  <th>  Jarque-Bera (JB):  </th> <td>14407.407</td>\n",
       "</tr>\n",
       "<tr>\n",
       "  <th>Skew:</th>           <td>-1.699</td>  <th>  Prob(JB):          </th> <td>    0.00</td> \n",
       "</tr>\n",
       "<tr>\n",
       "  <th>Kurtosis:</th>       <td> 4.066</td>  <th>  Cond. No.          </th> <td>4.64e+03</td> \n",
       "</tr>\n",
       "</table>"
      ],
      "text/plain": [
       "<class 'statsmodels.iolib.summary.Summary'>\n",
       "\"\"\"\n",
       "                            OLS Regression Results                            \n",
       "==============================================================================\n",
       "Dep. Variable:                     sc   R-squared:                       0.027\n",
       "Model:                            OLS   Adj. R-squared:                  0.027\n",
       "Method:                 Least Squares   F-statistic:                     107.5\n",
       "Date:                Tue, 26 Jan 2016   Prob (F-statistic):          4.31e-156\n",
       "Time:                        07:27:17   Log-Likelihood:                -11509.\n",
       "No. Observations:               27276   AIC:                         2.303e+04\n",
       "Df Residuals:                   27268   BIC:                         2.310e+04\n",
       "Df Model:                           7                                         \n",
       "Covariance Type:            nonrobust                                         \n",
       "=====================================================================================\n",
       "                        coef    std err          t      P>|t|      [95.0% Conf. Int.]\n",
       "-------------------------------------------------------------------------------------\n",
       "Intercept             0.8094      0.015     53.920      0.000         0.780     0.839\n",
       "progresa[T.basal]     0.0353      0.005      7.631      0.000         0.026     0.044\n",
       "dist_sec             -0.0093      0.001     -9.104      0.000        -0.011    -0.007\n",
       "hohedu                0.0156      0.001     17.434      0.000         0.014     0.017\n",
       "welfare_index        -0.0001   1.98e-05     -7.050      0.000        -0.000    -0.000\n",
       "indig                 0.0184      0.005      3.369      0.001         0.008     0.029\n",
       "dist_cap              0.0002   4.27e-05      3.898      0.000      8.27e-05     0.000\n",
       "min_dist              0.0004   7.32e-05      5.236      0.000         0.000     0.001\n",
       "==============================================================================\n",
       "Omnibus:                     7212.133   Durbin-Watson:                   1.762\n",
       "Prob(Omnibus):                  0.000   Jarque-Bera (JB):            14407.407\n",
       "Skew:                          -1.699   Prob(JB):                         0.00\n",
       "Kurtosis:                       4.066   Cond. No.                     4.64e+03\n",
       "==============================================================================\n",
       "\n",
       "Warnings:\n",
       "[1] Standard Errors assume that the covariance matrix of the errors is correctly specified.\n",
       "[2] The condition number is large, 4.64e+03. This might indicate that there are\n",
       "strong multicollinearity or other numerical problems.\n",
       "\"\"\""
      ]
     },
     "execution_count": 17,
     "metadata": {},
     "output_type": "execute_result"
    }
   ],
   "source": [
    "# Considering only the poor from 1998\n",
    "post_treat_multi = pr[(pr.year == 98) & (pr.poor == 'pobre')]\n",
    "\n",
    "# Fitting multiple regression model\n",
    "post_treat_multi = smf.ols(formula =\n",
    " 'sc ~ progresa + dist_sec + hohedu + welfare_index + indig + dist_cap + min_dist', data = post_treat_multi).fit()\n",
    "\n",
    "post_treat_multi.summary()"
   ]
  },
  {
   "cell_type": "code",
   "execution_count": 18,
   "metadata": {
    "collapsed": false
   },
   "outputs": [
    {
     "data": {
      "text/plain": [
       "Intercept            0.015011\n",
       "progresa[T.basal]    0.004626\n",
       "dist_sec             0.001020\n",
       "hohedu               0.000898\n",
       "welfare_index        0.000020\n",
       "indig                0.005452\n",
       "dist_cap             0.000043\n",
       "min_dist             0.000073\n",
       "dtype: float64"
      ]
     },
     "execution_count": 18,
     "metadata": {},
     "output_type": "execute_result"
    }
   ],
   "source": [
    "#Standard error\n",
    "post_treat_multi.bse"
   ]
  },
  {
   "cell_type": "markdown",
   "metadata": {},
   "source": [
    "#### Answer 2.3\n",
    "\n",
    "#### Answer (a)\n",
    "The controls which we have added have actually contributed in decreasing the point estimate of the treatment effect. This means that our treatment variable (progresa) was over estimating the treatment effect by considering the impact of other controls. On adding these controls, some of the treatment effect is explained by them because of which the impact of actual treatment variable is reduced.\n",
    "\n",
    "#### Answer (b)\n",
    "We see that the standard error has decreased from 0.004647 to 0.004626. That means adding additional controls has made our treatment variable more accurate.\n",
    "\n",
    "#### Answrs (c)\n",
    "One major difference betwen our estimates in 2.2 and 2.3 is the R-squared value. In single variable regression, the R-squared value is 0.003 and in the multiple variable regression, the R-squared value is 0.026. This indicates that adding additional controls has improved our model considerably and helped in explaining some additional variance."
   ]
  },
  {
   "cell_type": "markdown",
   "metadata": {},
   "source": [
    "### 2.4 Difference-in-Difference, version 1 (tabular)\n",
    "\n",
    "Thus far, we have computed the effects of Progresa by estimating the difference in 1998 enrollment rates across villages. An alternative approach would be to compute the treatment effect using a difference-in-differences framework.\n",
    "\n",
    "Begin by estimating the average treatment effects of the program for poor households using data from 1997 and 1998. Specifically, calculate the difference (between 1997 and 1998) in enrollment rates among poor households in treated villages; then compute the difference (between 1997 and 1998) in enrollment rates among poor households in control villages. The difference between these two differences is your estimate.\n",
    "\n",
    "* What is your estimate of the impact, and how does it compare to your earlier (simple difference) results?\n",
    "* What is the counterfactual assumption underlying this estimate? \n"
   ]
  },
  {
   "cell_type": "code",
   "execution_count": 12,
   "metadata": {
    "collapsed": false
   },
   "outputs": [
    {
     "data": {
      "text/html": [
       "<div>\n",
       "<table border=\"1\" class=\"dataframe\">\n",
       "  <thead>\n",
       "    <tr style=\"text-align: right;\">\n",
       "      <th></th>\n",
       "      <th>Initial (Pre)</th>\n",
       "      <th>Later (Post)</th>\n",
       "    </tr>\n",
       "  </thead>\n",
       "  <tbody>\n",
       "    <tr>\n",
       "      <th>Control</th>\n",
       "      <td>0.815186</td>\n",
       "      <td>0.807637</td>\n",
       "    </tr>\n",
       "    <tr>\n",
       "      <th>Treatment</th>\n",
       "      <td>0.822697</td>\n",
       "      <td>0.846479</td>\n",
       "    </tr>\n",
       "    <tr>\n",
       "      <th>Difference</th>\n",
       "      <td>-0.007549</td>\n",
       "      <td>0.023782</td>\n",
       "    </tr>\n",
       "  </tbody>\n",
       "</table>\n",
       "</div>"
      ],
      "text/plain": [
       "            Initial (Pre)  Later (Post)\n",
       "Control          0.815186      0.807637\n",
       "Treatment        0.822697      0.846479\n",
       "Difference      -0.007549      0.023782"
      ]
     },
     "execution_count": 12,
     "metadata": {},
     "output_type": "execute_result"
    }
   ],
   "source": [
    "# Computing the means required for difference in difference\n",
    "PreControl =    pr[(pr.poor == 'pobre') & (pr.year == 97) & (pr.progresa == '0')].mean()['sc']\n",
    "PostControl =   pr[(pr.poor == 'pobre') & (pr.year == 98) & (pr.progresa == '0')].mean()['sc']\n",
    "PreTreatment =  pr[(pr.poor == 'pobre') & (pr.year == 97) & (pr.progresa == 'basal')].mean()['sc']\n",
    "PostTreatment = pr[(pr.poor == 'pobre') & (pr.year == 98) & (pr.progresa == 'basal')].mean()['sc']\n",
    "\n",
    "ControlDiff =   PostControl - PreControl\n",
    "TreatmentDiff = PostTreatment - PreTreatment\n",
    "DiffInDiff =    TreatmentDiff - ControlDiff\n",
    "\n",
    "# Arranging our means in data frame\n",
    "diff_tab = {'Initial (Pre)':pd.Series([PreControl, PreTreatment, ControlDiff], index = ['Control', 'Treatment', 'Difference']),\n",
    "       'Later (Post)':pd.Series([PostControl, PostTreatment, TreatmentDiff], index = ['Control', 'Treatment', 'Difference']),}\n",
    "\n",
    "pd.DataFrame(diff_tab)"
   ]
  },
  {
   "cell_type": "code",
   "execution_count": 14,
   "metadata": {
    "collapsed": false
   },
   "outputs": [
    {
     "name": "stdout",
     "output_type": "stream",
     "text": [
      "Difference in Difference for Poor: 0.0313312803193\n"
     ]
    }
   ],
   "source": [
    "print('Difference in Difference for Poor:', DiffInDiff)"
   ]
  },
  {
   "cell_type": "markdown",
   "metadata": {},
   "source": [
    "#### Answer 2.4\n",
    "\n",
    "#### Answer(a)\n",
    "We see that the estimate of the impact is 0.0313. We see that the impact has been reduced from 0.0388 (single variable linear regression) to 0.0366 (multiple variable linear regression) to now 0.0313 via the difference in difference estimate. This is because difference in difference actually reduces the over estimation of our previous model owing to time trend\n",
    "\n",
    "#### Answer(b)\n",
    "The counterfactual assumption underlying the estimate is that in the absence of treatment (in this case progresa), over a particular time, the rate of enrollment in the treatment villages would have been the same as the rate of enrollment in the control villages assuming the trend over time is constant.\n"
   ]
  },
  {
   "cell_type": "markdown",
   "metadata": {},
   "source": [
    "### 2.5 Difference-in-Difference, version 1 (regression)\n",
    "\n",
    "Now use a regression specification to estimate the average treatment effects of the program in a difference-in-differences framework. Include at least 5 control variables.\n",
    "\n",
    "* What is your estimate of the impact of Progresa? Be very specific in interpreting your coefficients and standard errors, and make sure to specify exactly what units you are measuring and estimating.\n",
    "* How do these estimates of the treatment effect compare to the estimates based on the simple difference?\n",
    "* How do these estimates compare to the difference-in-difference estimates from 2.4 above? What accounts for these differences?\n",
    "* What is the counterfactual assumption underlying this regression? "
   ]
  },
  {
   "cell_type": "code",
   "execution_count": 15,
   "metadata": {
    "collapsed": false
   },
   "outputs": [
    {
     "name": "stderr",
     "output_type": "stream",
     "text": [
      "C:\\Users\\Nelson\\Anaconda3\\lib\\site-packages\\ipykernel\\__main__.py:3: SettingWithCopyWarning: \n",
      "A value is trying to be set on a copy of a slice from a DataFrame.\n",
      "Try using .loc[row_indexer,col_indexer] = value instead\n",
      "\n",
      "See the caveats in the documentation: http://pandas.pydata.org/pandas-docs/stable/indexing.html#indexing-view-versus-copy\n",
      "  app.launch_new_instance()\n"
     ]
    },
    {
     "data": {
      "text/plain": [
       "Intercept                          0.000000e+00\n",
       "progresa[T.basal]                  2.748528e-01\n",
       "time[T.True]                       1.376341e-01\n",
       "progresa[T.basal]:time[T.True]     2.250304e-06\n",
       "dist_sec                           5.463602e-31\n",
       "hohedu                            2.864807e-135\n",
       "welfare_index                      1.014889e-32\n",
       "indig                              2.224066e-08\n",
       "dist_cap                           3.532547e-07\n",
       "min_dist                           4.216564e-13\n",
       "dtype: float64"
      ]
     },
     "execution_count": 15,
     "metadata": {},
     "output_type": "execute_result"
    }
   ],
   "source": [
    "# Filtering by poor and creating new column which will set time as 0 if it is 97 and 1 otherwise\n",
    "DiD1 = pr[(pr.poor == 'pobre')]\n",
    "DiD1['time'] = DiD1['year'] == 98\n",
    "\n",
    "# Fitting difference in difference model using interaction between treatment and time\n",
    "DiD1_model = smf.ols(formula = \n",
    "  'sc ~ progresa + dist_sec + hohedu + welfare_index + indig + dist_cap + min_dist + time + progresa*time', data = DiD1)\n",
    "DiD1_fit = DiD1_model.fit()\n",
    "\n",
    "# P-values\n",
    "DiD1_fit.pvalues"
   ]
  },
  {
   "cell_type": "code",
   "execution_count": 70,
   "metadata": {
    "collapsed": false
   },
   "outputs": [
    {
     "data": {
      "text/html": [
       "<table class=\"simpletable\">\n",
       "<caption>OLS Regression Results</caption>\n",
       "<tr>\n",
       "  <th>Dep. Variable:</th>           <td>sc</td>        <th>  R-squared:         </th> <td>   0.024</td> \n",
       "</tr>\n",
       "<tr>\n",
       "  <th>Model:</th>                   <td>OLS</td>       <th>  Adj. R-squared:    </th> <td>   0.024</td> \n",
       "</tr>\n",
       "<tr>\n",
       "  <th>Method:</th>             <td>Least Squares</td>  <th>  F-statistic:       </th> <td>   160.3</td> \n",
       "</tr>\n",
       "<tr>\n",
       "  <th>Date:</th>             <td>Tue, 26 Jan 2016</td> <th>  Prob (F-statistic):</th> <td>2.75e-301</td>\n",
       "</tr>\n",
       "<tr>\n",
       "  <th>Time:</th>                 <td>05:01:50</td>     <th>  Log-Likelihood:    </th> <td> -25424.</td> \n",
       "</tr>\n",
       "<tr>\n",
       "  <th>No. Observations:</th>      <td> 58032</td>      <th>  AIC:               </th> <td>5.087e+04</td>\n",
       "</tr>\n",
       "<tr>\n",
       "  <th>Df Residuals:</th>          <td> 58022</td>      <th>  BIC:               </th> <td>5.096e+04</td>\n",
       "</tr>\n",
       "<tr>\n",
       "  <th>Df Model:</th>              <td>     9</td>      <th>                     </th>     <td> </td>    \n",
       "</tr>\n",
       "<tr>\n",
       "  <th>Covariance Type:</th>      <td>nonrobust</td>    <th>                     </th>     <td> </td>    \n",
       "</tr>\n",
       "</table>\n",
       "<table class=\"simpletable\">\n",
       "<tr>\n",
       "                 <td></td>                   <th>coef</th>     <th>std err</th>      <th>t</th>      <th>P>|t|</th> <th>[95.0% Conf. Int.]</th> \n",
       "</tr>\n",
       "<tr>\n",
       "  <th>Intercept</th>                      <td>    0.8339</td> <td>    0.011</td> <td>   77.418</td> <td> 0.000</td> <td>    0.813     0.855</td>\n",
       "</tr>\n",
       "<tr>\n",
       "  <th>progresa[T.basal]</th>              <td>    0.0048</td> <td>    0.004</td> <td>    1.092</td> <td> 0.275</td> <td>   -0.004     0.013</td>\n",
       "</tr>\n",
       "<tr>\n",
       "  <th>time[T.True]</th>                   <td>   -0.0075</td> <td>    0.005</td> <td>   -1.485</td> <td> 0.138</td> <td>   -0.017     0.002</td>\n",
       "</tr>\n",
       "<tr>\n",
       "  <th>progresa[T.basal]:time[T.True]</th> <td>    0.0304</td> <td>    0.006</td> <td>    4.730</td> <td> 0.000</td> <td>    0.018     0.043</td>\n",
       "</tr>\n",
       "<tr>\n",
       "  <th>dist_sec</th>                       <td>   -0.0084</td> <td>    0.001</td> <td>  -11.583</td> <td> 0.000</td> <td>   -0.010    -0.007</td>\n",
       "</tr>\n",
       "<tr>\n",
       "  <th>hohedu</th>                         <td>    0.0155</td> <td>    0.001</td> <td>   24.819</td> <td> 0.000</td> <td>    0.014     0.017</td>\n",
       "</tr>\n",
       "<tr>\n",
       "  <th>welfare_index</th>                  <td>   -0.0002</td> <td> 1.38e-05</td> <td>  -11.920</td> <td> 0.000</td> <td>   -0.000    -0.000</td>\n",
       "</tr>\n",
       "<tr>\n",
       "  <th>indig</th>                          <td>    0.0213</td> <td>    0.004</td> <td>    5.594</td> <td> 0.000</td> <td>    0.014     0.029</td>\n",
       "</tr>\n",
       "<tr>\n",
       "  <th>dist_cap</th>                       <td>    0.0002</td> <td> 2.97e-05</td> <td>    5.093</td> <td> 0.000</td> <td> 9.31e-05     0.000</td>\n",
       "</tr>\n",
       "<tr>\n",
       "  <th>min_dist</th>                       <td>    0.0004</td> <td> 5.12e-05</td> <td>    7.250</td> <td> 0.000</td> <td>    0.000     0.000</td>\n",
       "</tr>\n",
       "</table>\n",
       "<table class=\"simpletable\">\n",
       "<tr>\n",
       "  <th>Omnibus:</th>       <td>14517.448</td> <th>  Durbin-Watson:     </th> <td>   1.420</td> \n",
       "</tr>\n",
       "<tr>\n",
       "  <th>Prob(Omnibus):</th>  <td> 0.000</td>   <th>  Jarque-Bera (JB):  </th> <td>28096.547</td>\n",
       "</tr>\n",
       "<tr>\n",
       "  <th>Skew:</th>           <td>-1.648</td>   <th>  Prob(JB):          </th> <td>    0.00</td> \n",
       "</tr>\n",
       "<tr>\n",
       "  <th>Kurtosis:</th>       <td> 3.873</td>   <th>  Cond. No.          </th> <td>4.95e+03</td> \n",
       "</tr>\n",
       "</table>"
      ],
      "text/plain": [
       "<class 'statsmodels.iolib.summary.Summary'>\n",
       "\"\"\"\n",
       "                            OLS Regression Results                            \n",
       "==============================================================================\n",
       "Dep. Variable:                     sc   R-squared:                       0.024\n",
       "Model:                            OLS   Adj. R-squared:                  0.024\n",
       "Method:                 Least Squares   F-statistic:                     160.3\n",
       "Date:                Tue, 26 Jan 2016   Prob (F-statistic):          2.75e-301\n",
       "Time:                        05:01:50   Log-Likelihood:                -25424.\n",
       "No. Observations:               58032   AIC:                         5.087e+04\n",
       "Df Residuals:                   58022   BIC:                         5.096e+04\n",
       "Df Model:                           9                                         \n",
       "Covariance Type:            nonrobust                                         \n",
       "==================================================================================================\n",
       "                                     coef    std err          t      P>|t|      [95.0% Conf. Int.]\n",
       "--------------------------------------------------------------------------------------------------\n",
       "Intercept                          0.8339      0.011     77.418      0.000         0.813     0.855\n",
       "progresa[T.basal]                  0.0048      0.004      1.092      0.275        -0.004     0.013\n",
       "time[T.True]                      -0.0075      0.005     -1.485      0.138        -0.017     0.002\n",
       "progresa[T.basal]:time[T.True]     0.0304      0.006      4.730      0.000         0.018     0.043\n",
       "dist_sec                          -0.0084      0.001    -11.583      0.000        -0.010    -0.007\n",
       "hohedu                             0.0155      0.001     24.819      0.000         0.014     0.017\n",
       "welfare_index                     -0.0002   1.38e-05    -11.920      0.000        -0.000    -0.000\n",
       "indig                              0.0213      0.004      5.594      0.000         0.014     0.029\n",
       "dist_cap                           0.0002   2.97e-05      5.093      0.000      9.31e-05     0.000\n",
       "min_dist                           0.0004   5.12e-05      7.250      0.000         0.000     0.000\n",
       "==============================================================================\n",
       "Omnibus:                    14517.448   Durbin-Watson:                   1.420\n",
       "Prob(Omnibus):                  0.000   Jarque-Bera (JB):            28096.547\n",
       "Skew:                          -1.648   Prob(JB):                         0.00\n",
       "Kurtosis:                       3.873   Cond. No.                     4.95e+03\n",
       "==============================================================================\n",
       "\n",
       "Warnings:\n",
       "[1] Standard Errors assume that the covariance matrix of the errors is correctly specified.\n",
       "[2] The condition number is large, 4.95e+03. This might indicate that there are\n",
       "strong multicollinearity or other numerical problems.\n",
       "\"\"\""
      ]
     },
     "execution_count": 70,
     "metadata": {},
     "output_type": "execute_result"
    }
   ],
   "source": [
    "DiD1_fit.summary()"
   ]
  },
  {
   "cell_type": "markdown",
   "metadata": {},
   "source": [
    "#### Answer 2.5\n",
    "\n",
    "#### Answer(a)\n",
    "The estimate of the impact of delta will be given by the parameter for the interaction variables, in this case, progresa(control / treatment) and time (pre vs post). We see that the value of the parameter is 0.0307. The unit of this variable is the rate of enrollment over time.\n",
    "\n",
    "#### Answer(b)\n",
    "The estimates based on difference in difference indicate that the impact of treatment effect (progresa) from being significant in the simple difference method have ceased to be statistically significant in the difference in difference method. In its place, now, we have the interaction variable (difference in groups over time) which has become significant (p value of less than 0.05). The p value of other controls is approximately similar.\n",
    "\n",
    "#### Answer(c)\n",
    "The tabular computation of difference in difference yielded parameter value of 0.0313 while the linear regression model gave the value 0.0307. This indicates that the impact of the interaction variable has decreased owing to the control variables i.e the control variables decrease the slight over estimation made by our difference in difference model.\n",
    "\n",
    "#### Answer(d)\n",
    "The counterfactual assumption underlying the regression is that in the absence of treatment (in this case progresa) and controls (such as hohed, indig etc), over a particular time,  the rate of enrollment in the treatment villages would have been the same as the rate of enrollment in the control villages assuming the trend over time is constant.\n"
   ]
  },
  {
   "cell_type": "markdown",
   "metadata": {},
   "source": [
    "### 2.6 Difference-in-Difference, version 2\n",
    "\n",
    "In the previous problem, you estimated a difference-in-differences model that compared changes in enrollment rates over time across treatment and control villages. An alternative approach would be to compare enrollment rates in 1998 between poor and non-poor across treatment and control villages. \n",
    "\n",
    "* How would we estimate this version of the treatment effects in a regression model? \n",
    "* What is the counterfactual assumption underlying this regression?\n",
    "* How do these treatment effects compare to the estimates above?\n",
    "* Discuss some possible explanations for differences or similarities "
   ]
  },
  {
   "cell_type": "code",
   "execution_count": 17,
   "metadata": {
    "collapsed": false
   },
   "outputs": [
    {
     "name": "stderr",
     "output_type": "stream",
     "text": [
      "C:\\Users\\Nelson\\Anaconda3\\lib\\site-packages\\ipykernel\\__main__.py:3: SettingWithCopyWarning: \n",
      "A value is trying to be set on a copy of a slice from a DataFrame.\n",
      "Try using .loc[row_indexer,col_indexer] = value instead\n",
      "\n",
      "See the caveats in the documentation: http://pandas.pydata.org/pandas-docs/stable/indexing.html#indexing-view-versus-copy\n",
      "  app.launch_new_instance()\n"
     ]
    },
    {
     "data": {
      "text/plain": [
       "Intercept                            0.000000e+00\n",
       "progresa[T.basal]                    4.384071e-02\n",
       "poverty[T.True]                      4.465635e-01\n",
       "progresa[T.basal]:poverty[T.True]    2.798756e-01\n",
       "dist_sec                             3.500183e-22\n",
       "hohedu                               3.489984e-90\n",
       "welfare_index                        7.780375e-08\n",
       "indig                                2.989238e-04\n",
       "dist_cap                             2.108236e-07\n",
       "min_dist                             8.248137e-07\n",
       "dtype: float64"
      ]
     },
     "execution_count": 17,
     "metadata": {},
     "output_type": "execute_result"
    }
   ],
   "source": [
    "# Filtering by poor and creating new column which will set time as 0 if it is 97 and 1 otherwise\n",
    "DiD2 = pr[(pr.year == 98)]\n",
    "DiD2['poverty'] = DiD2['poor'] == 'pobre'\n",
    "\n",
    "# Fitting difference in difference model using interaction between treatment and time\n",
    "DiD2_model = smf.ols(formula = \n",
    "  'sc ~ progresa + dist_sec + hohedu + welfare_index + indig + dist_cap + min_dist + progresa*poverty', data = DiD2)\n",
    "DiD2_fit = DiD2_model.fit()\n",
    "\n",
    "# P-values\n",
    "DiD2_fit.pvalues"
   ]
  },
  {
   "cell_type": "code",
   "execution_count": 18,
   "metadata": {
    "collapsed": false
   },
   "outputs": [
    {
     "data": {
      "text/html": [
       "<table class=\"simpletable\">\n",
       "<caption>OLS Regression Results</caption>\n",
       "<tr>\n",
       "  <th>Dep. Variable:</th>           <td>sc</td>        <th>  R-squared:         </th> <td>   0.029</td> \n",
       "</tr>\n",
       "<tr>\n",
       "  <th>Model:</th>                   <td>OLS</td>       <th>  Adj. R-squared:    </th> <td>   0.029</td> \n",
       "</tr>\n",
       "<tr>\n",
       "  <th>Method:</th>             <td>Least Squares</td>  <th>  F-statistic:       </th> <td>   106.5</td> \n",
       "</tr>\n",
       "<tr>\n",
       "  <th>Date:</th>             <td>Tue, 26 Jan 2016</td> <th>  Prob (F-statistic):</th> <td>1.64e-197</td>\n",
       "</tr>\n",
       "<tr>\n",
       "  <th>Time:</th>                 <td>07:11:47</td>     <th>  Log-Likelihood:    </th> <td> -13792.</td> \n",
       "</tr>\n",
       "<tr>\n",
       "  <th>No. Observations:</th>      <td> 31892</td>      <th>  AIC:               </th> <td>2.760e+04</td>\n",
       "</tr>\n",
       "<tr>\n",
       "  <th>Df Residuals:</th>          <td> 31882</td>      <th>  BIC:               </th> <td>2.769e+04</td>\n",
       "</tr>\n",
       "<tr>\n",
       "  <th>Df Model:</th>              <td>     9</td>      <th>                     </th>     <td> </td>    \n",
       "</tr>\n",
       "<tr>\n",
       "  <th>Covariance Type:</th>      <td>nonrobust</td>    <th>                     </th>     <td> </td>    \n",
       "</tr>\n",
       "</table>\n",
       "<table class=\"simpletable\">\n",
       "<tr>\n",
       "                  <td></td>                     <th>coef</th>     <th>std err</th>      <th>t</th>      <th>P>|t|</th> <th>[95.0% Conf. Int.]</th> \n",
       "</tr>\n",
       "<tr>\n",
       "  <th>Intercept</th>                         <td>    0.7709</td> <td>    0.019</td> <td>   40.501</td> <td> 0.000</td> <td>    0.734     0.808</td>\n",
       "</tr>\n",
       "<tr>\n",
       "  <th>progresa[T.basal]</th>                 <td>    0.0226</td> <td>    0.011</td> <td>    2.016</td> <td> 0.044</td> <td>    0.001     0.045</td>\n",
       "</tr>\n",
       "<tr>\n",
       "  <th>poverty[T.True]</th>                   <td>    0.0079</td> <td>    0.010</td> <td>    0.761</td> <td> 0.447</td> <td>   -0.012     0.028</td>\n",
       "</tr>\n",
       "<tr>\n",
       "  <th>progresa[T.basal]:poverty[T.True]</th> <td>    0.0131</td> <td>    0.012</td> <td>    1.081</td> <td> 0.280</td> <td>   -0.011     0.037</td>\n",
       "</tr>\n",
       "<tr>\n",
       "  <th>dist_sec</th>                          <td>   -0.0094</td> <td>    0.001</td> <td>   -9.692</td> <td> 0.000</td> <td>   -0.011    -0.007</td>\n",
       "</tr>\n",
       "<tr>\n",
       "  <th>hohedu</th>                            <td>    0.0162</td> <td>    0.001</td> <td>   20.201</td> <td> 0.000</td> <td>    0.015     0.018</td>\n",
       "</tr>\n",
       "<tr>\n",
       "  <th>welfare_index</th>                     <td>-9.853e-05</td> <td> 1.83e-05</td> <td>   -5.373</td> <td> 0.000</td> <td>   -0.000 -6.26e-05</td>\n",
       "</tr>\n",
       "<tr>\n",
       "  <th>indig</th>                             <td>    0.0188</td> <td>    0.005</td> <td>    3.617</td> <td> 0.000</td> <td>    0.009     0.029</td>\n",
       "</tr>\n",
       "<tr>\n",
       "  <th>dist_cap</th>                          <td>    0.0002</td> <td> 4.06e-05</td> <td>    5.191</td> <td> 0.000</td> <td>    0.000     0.000</td>\n",
       "</tr>\n",
       "<tr>\n",
       "  <th>min_dist</th>                          <td>    0.0003</td> <td> 6.87e-05</td> <td>    4.930</td> <td> 0.000</td> <td>    0.000     0.000</td>\n",
       "</tr>\n",
       "</table>\n",
       "<table class=\"simpletable\">\n",
       "<tr>\n",
       "  <th>Omnibus:</th>       <td>7998.393</td> <th>  Durbin-Watson:     </th> <td>   1.768</td> \n",
       "</tr>\n",
       "<tr>\n",
       "  <th>Prob(Omnibus):</th>  <td> 0.000</td>  <th>  Jarque-Bera (JB):  </th> <td>15486.221</td>\n",
       "</tr>\n",
       "<tr>\n",
       "  <th>Skew:</th>           <td>-1.646</td>  <th>  Prob(JB):          </th> <td>    0.00</td> \n",
       "</tr>\n",
       "<tr>\n",
       "  <th>Kurtosis:</th>       <td> 3.900</td>  <th>  Cond. No.          </th> <td>7.83e+03</td> \n",
       "</tr>\n",
       "</table>"
      ],
      "text/plain": [
       "<class 'statsmodels.iolib.summary.Summary'>\n",
       "\"\"\"\n",
       "                            OLS Regression Results                            \n",
       "==============================================================================\n",
       "Dep. Variable:                     sc   R-squared:                       0.029\n",
       "Model:                            OLS   Adj. R-squared:                  0.029\n",
       "Method:                 Least Squares   F-statistic:                     106.5\n",
       "Date:                Tue, 26 Jan 2016   Prob (F-statistic):          1.64e-197\n",
       "Time:                        07:11:47   Log-Likelihood:                -13792.\n",
       "No. Observations:               31892   AIC:                         2.760e+04\n",
       "Df Residuals:                   31882   BIC:                         2.769e+04\n",
       "Df Model:                           9                                         \n",
       "Covariance Type:            nonrobust                                         \n",
       "=====================================================================================================\n",
       "                                        coef    std err          t      P>|t|      [95.0% Conf. Int.]\n",
       "-----------------------------------------------------------------------------------------------------\n",
       "Intercept                             0.7709      0.019     40.501      0.000         0.734     0.808\n",
       "progresa[T.basal]                     0.0226      0.011      2.016      0.044         0.001     0.045\n",
       "poverty[T.True]                       0.0079      0.010      0.761      0.447        -0.012     0.028\n",
       "progresa[T.basal]:poverty[T.True]     0.0131      0.012      1.081      0.280        -0.011     0.037\n",
       "dist_sec                             -0.0094      0.001     -9.692      0.000        -0.011    -0.007\n",
       "hohedu                                0.0162      0.001     20.201      0.000         0.015     0.018\n",
       "welfare_index                     -9.853e-05   1.83e-05     -5.373      0.000        -0.000 -6.26e-05\n",
       "indig                                 0.0188      0.005      3.617      0.000         0.009     0.029\n",
       "dist_cap                              0.0002   4.06e-05      5.191      0.000         0.000     0.000\n",
       "min_dist                              0.0003   6.87e-05      4.930      0.000         0.000     0.000\n",
       "==============================================================================\n",
       "Omnibus:                     7998.393   Durbin-Watson:                   1.768\n",
       "Prob(Omnibus):                  0.000   Jarque-Bera (JB):            15486.221\n",
       "Skew:                          -1.646   Prob(JB):                         0.00\n",
       "Kurtosis:                       3.900   Cond. No.                     7.83e+03\n",
       "==============================================================================\n",
       "\n",
       "Warnings:\n",
       "[1] Standard Errors assume that the covariance matrix of the errors is correctly specified.\n",
       "[2] The condition number is large, 7.83e+03. This might indicate that there are\n",
       "strong multicollinearity or other numerical problems.\n",
       "\"\"\""
      ]
     },
     "execution_count": 18,
     "metadata": {},
     "output_type": "execute_result"
    }
   ],
   "source": [
    "DiD2_fit.summary()"
   ]
  },
  {
   "cell_type": "markdown",
   "metadata": {},
   "source": [
    "#### Answer 2.6\n",
    "\n",
    "#### Answer(a)\n",
    "We would estimate this version of the treatment effect by using the interaction between the treatment (progresa) and another binary variable poverty which we will either set to 1 or 0 depending on whether the household is non poor or poor.\n",
    "\n",
    "#### Answer(b)\n",
    "The counterfactual assumption underlying the regression is that in the absence of treatment (in this case progresa) and controls (such as hohed, indig etc), for poor as well as non poor group,  the rate of enrollment in the treatment villages would have been the same as the rate of enrollment in the control villages assuming the trend over time is constant.\n",
    "\n",
    "#### Answer(c)\n",
    "The R-squared value of this model is 0.029 compared to 0.024 for the model before this. This treatment effect in this model thus explains a little more variance than the previous model. This variable is explained by the treatment progresa rather than the interaction variable as we saw in the previous model.\n",
    "However, like the the time variable in the previous model, the effect of poverty variable in this case when we consider difference between poor and non-poor households continues to remain statistically insignificant \n",
    "\n",
    "#### Answer(d)\n",
    "We see similarity in our current model as well as previous model in terms of the additional effect we introduced (time in previous model and poverty in this model) by themselves remaining insignificant. \n",
    "\n",
    "However the previous model which considers interaction with time has statistically significant interaction effect (between time and progresa) whereas the interaction effect in this model (between poverty and progresa) is not statistically significant. Another difference is that in our current model, progresa on its own is statistically significant but in our previous model, progresa on its own is not statistically significant."
   ]
  },
  {
   "cell_type": "markdown",
   "metadata": {},
   "source": [
    "### 2.7 Spillover effects (extra credit)\n",
    "\n",
    "Thus far, we have focused on the impact of PROGRESA on poor households. Repeat your analysis in 2.5, instead focusing on the impact of PROGRESA on non-poor households. \n",
    "* A: Describe one or two reasons why PROGRESA might have impacted non-poor households.\n",
    "* B: Do you observe any impacts of PROGRESA on the non-poor?"
   ]
  },
  {
   "cell_type": "code",
   "execution_count": 19,
   "metadata": {
    "collapsed": false
   },
   "outputs": [
    {
     "name": "stderr",
     "output_type": "stream",
     "text": [
      "C:\\Users\\Nelson\\Anaconda3\\lib\\site-packages\\ipykernel\\__main__.py:3: SettingWithCopyWarning: \n",
      "A value is trying to be set on a copy of a slice from a DataFrame.\n",
      "Try using .loc[row_indexer,col_indexer] = value instead\n",
      "\n",
      "See the caveats in the documentation: http://pandas.pydata.org/pandas-docs/stable/indexing.html#indexing-view-versus-copy\n",
      "  app.launch_new_instance()\n"
     ]
    },
    {
     "data": {
      "text/plain": [
       "Intercept                         3.476881e-85\n",
       "progresa[T.basal]                 2.269753e-02\n",
       "time[T.True]                      2.389437e-01\n",
       "progresa[T.basal]:time[T.True]    8.225313e-01\n",
       "dist_sec                          6.742426e-13\n",
       "hohedu                            1.423653e-44\n",
       "welfare_index                     7.193438e-02\n",
       "indig                             1.437127e-01\n",
       "dist_cap                          1.029022e-09\n",
       "min_dist                          6.761989e-01\n",
       "dtype: float64"
      ]
     },
     "execution_count": 19,
     "metadata": {},
     "output_type": "execute_result"
    }
   ],
   "source": [
    "# Filtering by no poor and creating new column which will set time as 0 if it is 97 and 1 otherwise\n",
    "DiD3 = pr[(pr.poor == 'no pobre')]\n",
    "DiD3['time'] = DiD3['year'] == 98\n",
    "\n",
    "# Fitting difference in difference model using interaction between treatment and time\n",
    "DiD3_model = smf.ols(formula = \n",
    "  'sc ~ progresa + dist_sec + hohedu + welfare_index + indig + dist_cap + min_dist + progresa*time', data = DiD3)\n",
    "DiD3_fit = DiD3_model.fit()\n",
    "\n",
    "# P-values\n",
    "DiD3_fit.pvalues"
   ]
  },
  {
   "cell_type": "code",
   "execution_count": 82,
   "metadata": {
    "collapsed": false
   },
   "outputs": [
    {
     "data": {
      "text/html": [
       "<table class=\"simpletable\">\n",
       "<caption>OLS Regression Results</caption>\n",
       "<tr>\n",
       "  <th>Dep. Variable:</th>           <td>sc</td>        <th>  R-squared:         </th> <td>   0.040</td> \n",
       "</tr>\n",
       "<tr>\n",
       "  <th>Model:</th>                   <td>OLS</td>       <th>  Adj. R-squared:    </th> <td>   0.039</td> \n",
       "</tr>\n",
       "<tr>\n",
       "  <th>Method:</th>             <td>Least Squares</td>  <th>  F-statistic:       </th> <td>   47.46</td> \n",
       "</tr>\n",
       "<tr>\n",
       "  <th>Date:</th>             <td>Tue, 26 Jan 2016</td> <th>  Prob (F-statistic):</th> <td>1.44e-84</td> \n",
       "</tr>\n",
       "<tr>\n",
       "  <th>Time:</th>                 <td>06:23:32</td>     <th>  Log-Likelihood:    </th> <td> -5187.8</td> \n",
       "</tr>\n",
       "<tr>\n",
       "  <th>No. Observations:</th>      <td> 10336</td>      <th>  AIC:               </th> <td>1.040e+04</td>\n",
       "</tr>\n",
       "<tr>\n",
       "  <th>Df Residuals:</th>          <td> 10326</td>      <th>  BIC:               </th> <td>1.047e+04</td>\n",
       "</tr>\n",
       "<tr>\n",
       "  <th>Df Model:</th>              <td>     9</td>      <th>                     </th>     <td> </td>    \n",
       "</tr>\n",
       "<tr>\n",
       "  <th>Covariance Type:</th>      <td>nonrobust</td>    <th>                     </th>     <td> </td>    \n",
       "</tr>\n",
       "</table>\n",
       "<table class=\"simpletable\">\n",
       "<tr>\n",
       "                 <td></td>                   <th>coef</th>     <th>std err</th>      <th>t</th>      <th>P>|t|</th> <th>[95.0% Conf. Int.]</th> \n",
       "</tr>\n",
       "<tr>\n",
       "  <th>Intercept</th>                      <td>    0.6209</td> <td>    0.031</td> <td>   19.742</td> <td> 0.000</td> <td>    0.559     0.683</td>\n",
       "</tr>\n",
       "<tr>\n",
       "  <th>progresa[T.basal]</th>              <td>    0.0247</td> <td>    0.011</td> <td>    2.279</td> <td> 0.023</td> <td>    0.003     0.046</td>\n",
       "</tr>\n",
       "<tr>\n",
       "  <th>time[T.True]</th>                   <td>    0.0148</td> <td>    0.013</td> <td>    1.178</td> <td> 0.239</td> <td>   -0.010     0.039</td>\n",
       "</tr>\n",
       "<tr>\n",
       "  <th>progresa[T.basal]:time[T.True]</th> <td>   -0.0036</td> <td>    0.016</td> <td>   -0.224</td> <td> 0.823</td> <td>   -0.035     0.028</td>\n",
       "</tr>\n",
       "<tr>\n",
       "  <th>dist_sec</th>                       <td>   -0.0148</td> <td>    0.002</td> <td>   -7.194</td> <td> 0.000</td> <td>   -0.019    -0.011</td>\n",
       "</tr>\n",
       "<tr>\n",
       "  <th>hohedu</th>                         <td>    0.0176</td> <td>    0.001</td> <td>   14.074</td> <td> 0.000</td> <td>    0.015     0.020</td>\n",
       "</tr>\n",
       "<tr>\n",
       "  <th>welfare_index</th>                  <td> 5.927e-05</td> <td> 3.29e-05</td> <td>    1.800</td> <td> 0.072</td> <td>-5.28e-06     0.000</td>\n",
       "</tr>\n",
       "<tr>\n",
       "  <th>indig</th>                          <td>    0.0177</td> <td>    0.012</td> <td>    1.462</td> <td> 0.144</td> <td>   -0.006     0.041</td>\n",
       "</tr>\n",
       "<tr>\n",
       "  <th>dist_cap</th>                       <td>    0.0005</td> <td> 8.85e-05</td> <td>    6.111</td> <td> 0.000</td> <td>    0.000     0.001</td>\n",
       "</tr>\n",
       "<tr>\n",
       "  <th>min_dist</th>                       <td>-5.645e-05</td> <td>    0.000</td> <td>   -0.418</td> <td> 0.676</td> <td>   -0.000     0.000</td>\n",
       "</tr>\n",
       "</table>\n",
       "<table class=\"simpletable\">\n",
       "<tr>\n",
       "  <th>Omnibus:</th>       <td>1825.169</td> <th>  Durbin-Watson:     </th> <td>   1.491</td>\n",
       "</tr>\n",
       "<tr>\n",
       "  <th>Prob(Omnibus):</th>  <td> 0.000</td>  <th>  Jarque-Bera (JB):  </th> <td>3010.871</td>\n",
       "</tr>\n",
       "<tr>\n",
       "  <th>Skew:</th>           <td>-1.322</td>  <th>  Prob(JB):          </th> <td>    0.00</td>\n",
       "</tr>\n",
       "<tr>\n",
       "  <th>Kurtosis:</th>       <td> 2.951</td>  <th>  Cond. No.          </th> <td>7.27e+03</td>\n",
       "</tr>\n",
       "</table>"
      ],
      "text/plain": [
       "<class 'statsmodels.iolib.summary.Summary'>\n",
       "\"\"\"\n",
       "                            OLS Regression Results                            \n",
       "==============================================================================\n",
       "Dep. Variable:                     sc   R-squared:                       0.040\n",
       "Model:                            OLS   Adj. R-squared:                  0.039\n",
       "Method:                 Least Squares   F-statistic:                     47.46\n",
       "Date:                Tue, 26 Jan 2016   Prob (F-statistic):           1.44e-84\n",
       "Time:                        06:23:32   Log-Likelihood:                -5187.8\n",
       "No. Observations:               10336   AIC:                         1.040e+04\n",
       "Df Residuals:                   10326   BIC:                         1.047e+04\n",
       "Df Model:                           9                                         \n",
       "Covariance Type:            nonrobust                                         \n",
       "==================================================================================================\n",
       "                                     coef    std err          t      P>|t|      [95.0% Conf. Int.]\n",
       "--------------------------------------------------------------------------------------------------\n",
       "Intercept                          0.6209      0.031     19.742      0.000         0.559     0.683\n",
       "progresa[T.basal]                  0.0247      0.011      2.279      0.023         0.003     0.046\n",
       "time[T.True]                       0.0148      0.013      1.178      0.239        -0.010     0.039\n",
       "progresa[T.basal]:time[T.True]    -0.0036      0.016     -0.224      0.823        -0.035     0.028\n",
       "dist_sec                          -0.0148      0.002     -7.194      0.000        -0.019    -0.011\n",
       "hohedu                             0.0176      0.001     14.074      0.000         0.015     0.020\n",
       "welfare_index                   5.927e-05   3.29e-05      1.800      0.072     -5.28e-06     0.000\n",
       "indig                              0.0177      0.012      1.462      0.144        -0.006     0.041\n",
       "dist_cap                           0.0005   8.85e-05      6.111      0.000         0.000     0.001\n",
       "min_dist                       -5.645e-05      0.000     -0.418      0.676        -0.000     0.000\n",
       "==============================================================================\n",
       "Omnibus:                     1825.169   Durbin-Watson:                   1.491\n",
       "Prob(Omnibus):                  0.000   Jarque-Bera (JB):             3010.871\n",
       "Skew:                          -1.322   Prob(JB):                         0.00\n",
       "Kurtosis:                       2.951   Cond. No.                     7.27e+03\n",
       "==============================================================================\n",
       "\n",
       "Warnings:\n",
       "[1] Standard Errors assume that the covariance matrix of the errors is correctly specified.\n",
       "[2] The condition number is large, 7.27e+03. This might indicate that there are\n",
       "strong multicollinearity or other numerical problems.\n",
       "\"\"\""
      ]
     },
     "execution_count": 82,
     "metadata": {},
     "output_type": "execute_result"
    }
   ],
   "source": [
    "DiD3_fit.summary()"
   ]
  },
  {
   "cell_type": "markdown",
   "metadata": {},
   "source": [
    "#### Answer 2.7\n",
    "\n",
    "#### Answer(a)\n",
    "Progresa might have impacted non-poor household because:\n",
    "Some non-poor people who were not sending their kids to school might have feared that their kids would be left behind the poor kids who were going to school and would have been encouraged to send their kids to school as well.\n",
    "\n",
    "#### Answer(b)\n",
    "We see that for the interaction variable, the time variable as well as the treatment variable, the p value is greater than 0.05 and this is not statistically significant. Hence we can conclude that Progresa did not make any significant impact on the non-poor."
   ]
  },
  {
   "cell_type": "markdown",
   "metadata": {},
   "source": [
    "### 2.8 Summary\n",
    "\n",
    "Based on all the analysis you have undertaken to date, do you believe that Progresa had a causal impact on the enrollment rates of poor households in Mexico?"
   ]
  },
  {
   "cell_type": "markdown",
   "metadata": {},
   "source": [
    "#### Answer 2.8\n",
    "If we see in the single difference model, we see that the treatment (progresa) is significant and the parameter estimate is 0.0388. As we moved along to the single difference model with multiple controls we saw that the treatment continued to remain significant even though the impact reduced slightly with the parameter estimate now 0.035. The explained variance however increased because of the additional control variables from 0.003 to 0.027.\n",
    "\n",
    "We know that for the single difference method, there might have been over estimation of the treatment effect because of the time trend. In order to verify this, we computed the double difference for the treatment and control groups over time - from 97 to 98. On doing this, we saw that the treatment variable and time on their own were not statisitically significant, however, the interaction variable i.e. the interaction between time(97/98) and group(treatment/control) was statistically significant with delta parameter of 0.030. Thus, the model confirmed that there indeed was an effect of progresa on the rate of enrollment over time. The explained variance in this case was 0.024 which explained almost as much variance as our single difference model.\n",
    "\n",
    "Moreover, on checking the double difference for interaction between the treatment and poverty, we found that there was no statistically significant realtionship confirming our intuition that introducing progresa over time helped increase the enrollment rate.\n",
    "\n",
    "Thus, based on the analysis, I do believe that progresa had a CORRELATION on the enrollment rates of the poor households in Mexico.\n",
    "This was NOT a causal impact becaust there are too many assumptions such as:\n",
    "1. We are assuming parallel trends. This may or may not be true\n",
    "2. We are assuming that the experiment was perfectly randomized. This may or may not be true."
   ]
  }
 ],
 "metadata": {
  "kernelspec": {
   "display_name": "Python 3",
   "language": "python",
   "name": "python3"
  },
  "language_info": {
   "codemirror_mode": {
    "name": "ipython",
    "version": 3
   },
   "file_extension": ".py",
   "mimetype": "text/x-python",
   "name": "python",
   "nbconvert_exporter": "python",
   "pygments_lexer": "ipython3",
   "version": "3.5.1"
  }
 },
 "nbformat": 4,
 "nbformat_minor": 0
}
